import requests
import json
import pandas as pd

# Fetching the latest data from BCC - California
# response = requests.get('https://iservices.dca.ca.gov/api/bcclicenseread/getAllBccLicenses', headers={'app_id': '708af3ad', 'app_key': '82758f191c31f3a110daad01a5c39535',}).content
#
# json_string = json.loads(response)
#
# df = pd.DataFrame(json_string)
# df.to_csv("cali_bcc.csv", index=False)

# Reading the data
cali_bcc = pd.read_csv("cali_bcc.csv")
print(cali_bcc.columns)
