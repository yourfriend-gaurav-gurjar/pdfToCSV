{
 "cells": [
  {
   "cell_type": "code",
   "execution_count": 1,
   "metadata": {
    "collapsed": true
   },
   "outputs": [],
   "source": [
    "## PLEASE PUT ALL THE FOLLOWING FILES INTO THE CURRENT FOLDER\n",
    "# dispensaries20210507.csv\n",
    "# growers20210507.csv\n",
    "# transporter20210507.csv\n",
    "# processor20210507.csv\n",
    "# laboratory20210507.csv\n",
    "# waste_disposal20210507.csv\n",
    "\n",
    "import pandas as pd\n",
    "import glob\n",
    "import numpy as np\n",
    "import matplotlib.pyplot as plt\n",
    "import numpy"
   ]
  },
  {
   "cell_type": "code",
   "execution_count": 2,
   "outputs": [],
   "source": [
    "extension = 'csv'\n",
    "# all_filenames = [i for i in glob.glob('*.{}'.format(extension))]\n",
    "license_type = \"license_type\"\n"
   ],
   "metadata": {
    "collapsed": false,
    "pycharm": {
     "name": "#%%\n"
    }
   }
  },
  {
   "cell_type": "code",
   "execution_count": 7,
   "outputs": [],
   "source": [
    "# Manipulating dispensaries20210507.csv\n",
    "dispensaries = pd.read_csv(\"dispensaries20210507.csv\").drop(['Unnamed: 0', 'Unnamed: 0.1'],axis=1)\n",
    "dispensaries['License_type'] = \"dispensaries\"\n",
    "dispensaries = dispensaries[dispensaries['0'].notnull()]\n",
    "# print(dispensaries)"
   ],
   "metadata": {
    "collapsed": false,
    "pycharm": {
     "name": "#%%\n"
    }
   }
  },
  {
   "cell_type": "code",
   "execution_count": 8,
   "outputs": [
    {
     "name": "stderr",
     "output_type": "stream",
     "text": [
      "c:\\users\\gurjar\\pycharmprojects\\pdftocsv\\venv\\lib\\site-packages\\pandas\\core\\frame.py:4308: SettingWithCopyWarning: \n",
      "A value is trying to be set on a copy of a slice from a DataFrame\n",
      "\n",
      "See the caveats in the documentation: https://pandas.pydata.org/pandas-docs/stable/user_guide/indexing.html#returning-a-view-versus-a-copy\n",
      "  return super().drop(\n"
     ]
    }
   ],
   "source": [
    "# Figuring out the datasets with empty columns\n",
    "dispensaries_7thColIndex = dispensaries['7'].notnull()\n",
    "missing_data = dispensaries[dispensaries_7thColIndex]\n",
    "missing_data.drop('1', inplace=True, axis=1)\n",
    "missing_data.drop('2', inplace=True, axis=1)\n",
    "missing_data.columns=['business', 'license', 'email', 'phone', 'city', 'zip', 'county', 'license_type']\n",
    "missing_data = missing_data.replace('\\n','', regex=True)\n",
    "missing_data['zip'] = missing_data['zip'].astype(\"int64\")\n",
    "data=missing_data['business'].str.split(r'Trade Name:', expand=True)\n",
    "# print(data)\n",
    "missing_data['trade_name'] = data[1]\n",
    "missing_data['business'] = data[0]\n",
    "# print(missing_data)\n",
    "# missing_data.to_csv(\"dispensaries_missing_data.csv\", index=False)"
   ],
   "metadata": {
    "collapsed": false,
    "pycharm": {
     "name": "#%%\n"
    }
   }
  },
  {
   "cell_type": "code",
   "execution_count": 9,
   "outputs": [],
   "source": [
    "# Indexing the missing data and subsetting with the main dataset 'dispensaries'\n",
    "index_names_dispensaries = dispensaries[dispensaries['7'].notnull()].index\n",
    "# print(index_names_dispensaries)\n",
    "dispensaries.drop(index_names_dispensaries, inplace=True)\n",
    "dispensaries.drop('7', inplace=True, axis=1)\n",
    "dispensaries.drop('8', inplace=True, axis=1)\n",
    "dispensaries.columns=['business', 'license', 'email', 'phone', 'city', 'zip', 'county', 'license_type']\n",
    "dispensaries = dispensaries.replace('\\n','', regex=True)\n",
    "dispensaries['zip'] = dispensaries['zip'].astype(\"int64\")\n",
    "data=dispensaries['business'].str.split(r'Trade Name:', expand=True)\n",
    "# print(data)\n",
    "dispensaries['trade_name'] = data[1]\n",
    "dispensaries['business'] = data[0]\n",
    "# print(dispensaries)\n",
    "# dispensaries.to_csv(\"dispensaries_complete_cases.csv\", index=False)"
   ],
   "metadata": {
    "collapsed": false,
    "pycharm": {
     "name": "#%% Finding the complete cases after parsing and reading the csv\n"
    }
   }
  },
  {
   "cell_type": "code",
   "execution_count": 10,
   "outputs": [],
   "source": [
    "frame = [dispensaries, missing_data]\n",
    "dispensaries = pd.concat(frame)\n",
    "# print(dispensaries)\n",
    "dispensaries.to_csv(\"enriched_data/dispensaries_df.csv\", index=False)\n"
   ],
   "metadata": {
    "collapsed": false,
    "pycharm": {
     "name": "#%% Combining the missing data and manipulated data\n"
    }
   }
  },
  {
   "cell_type": "code",
   "execution_count": 11,
   "outputs": [],
   "source": [
    "# Manipulating growers20210507.csv\n",
    "growers = pd.read_csv(\"growers20210507.csv\").drop(['Unnamed: 0', 'Unnamed: 0.1'],axis=1)\n",
    "growers['License_type'] = \"growers\"\n",
    "growers = growers[growers['0'].notnull()]\n",
    "# print(growers)"
   ],
   "metadata": {
    "collapsed": false,
    "pycharm": {
     "name": "#%%\n"
    }
   }
  },
  {
   "cell_type": "code",
   "execution_count": 12,
   "outputs": [
    {
     "name": "stderr",
     "output_type": "stream",
     "text": [
      "c:\\users\\gurjar\\pycharmprojects\\pdftocsv\\venv\\lib\\site-packages\\pandas\\core\\frame.py:4308: SettingWithCopyWarning: \n",
      "A value is trying to be set on a copy of a slice from a DataFrame\n",
      "\n",
      "See the caveats in the documentation: https://pandas.pydata.org/pandas-docs/stable/user_guide/indexing.html#returning-a-view-versus-a-copy\n",
      "  return super().drop(\n"
     ]
    }
   ],
   "source": [
    "growers_7thColIndex = growers['7'].notnull()\n",
    "missing_data = growers[growers_7thColIndex]\n",
    "# print(missing_data)\n",
    "missing_data.drop('1', inplace=True, axis=1)\n",
    "missing_data.drop('2', inplace=True, axis=1)\n",
    "missing_data.columns=['business', 'license', 'email', 'phone', 'city', 'zip', 'county', 'license_type']\n",
    "missing_data = missing_data.replace('\\n','', regex=True)\n",
    "missing_data['zip'] = missing_data['zip'].astype(\"int64\")\n",
    "data=missing_data['business'].str.split(r'Trade Name:', expand=True)\n",
    "# print(data)\n",
    "missing_data['trade_name'] = data[1]\n",
    "missing_data['business'] = data[0]\n",
    "# print(missing_data)\n",
    "# missing_data.to_csv(\"growers_missing_data.csv\", index=False)"
   ],
   "metadata": {
    "collapsed": false,
    "pycharm": {
     "name": "#%%  Missing Data Check\n"
    }
   }
  },
  {
   "cell_type": "code",
   "execution_count": 13,
   "outputs": [],
   "source": [
    "index_names_growers = growers[growers['7'].notnull()].index\n",
    "growers.drop(index_names_growers, inplace=True)\n",
    "growers.drop('7', inplace=True, axis=1)\n",
    "growers.drop('8', inplace=True, axis=1)\n",
    "growers.columns=['business', 'license', 'email', 'phone', 'city', 'zip', 'county', 'license_type']\n",
    "growers = growers.replace('\\n','', regex=True)\n",
    "growers['zip'] = growers['zip'].astype(\"int64\")\n",
    "data=growers['business'].str.split(r'Trade Name:', expand=True)\n",
    "# print(data)\n",
    "growers['trade_name'] = data[1]\n",
    "growers['business'] = data[0]\n",
    "# print(growers)\n",
    "# growers.to_csv(\"growers.csv\", index=False)"
   ],
   "metadata": {
    "collapsed": false,
    "pycharm": {
     "name": "#%% Removing NaN columns and Assigning names to the columns\n"
    }
   }
  },
  {
   "cell_type": "code",
   "execution_count": 14,
   "outputs": [],
   "source": [
    "frame = [growers, missing_data]\n",
    "growers = pd.concat(frame)\n",
    "# print(growers)\n",
    "growers.to_csv(\"enriched_data/growers_df.csv\", index=False)"
   ],
   "metadata": {
    "collapsed": false,
    "pycharm": {
     "name": "#%% Combining the missing data and manipulated data\n"
    }
   }
  },
  {
   "cell_type": "code",
   "execution_count": null,
   "outputs": [],
   "source": [],
   "metadata": {
    "collapsed": false,
    "pycharm": {
     "name": "#%%\n"
    }
   }
  },
  {
   "cell_type": "code",
   "execution_count": 15,
   "outputs": [
    {
     "name": "stdout",
     "output_type": "stream",
     "text": [
      "                                                    0               1  \\\n",
      "0                      COASTA HOMA, LLC \\nTrade Name:  TAAA-NCOF-UF3E   \n",
      "1                    UR SMOKIN DELIVERY \\nTrade Name:  TAAA-VKZB-BSUZ   \n",
      "2   D-LUV TRANSPORT LTD. CO. \\nTrade Name: D-LUVS ...  TAAA-6NR6-KI0Y   \n",
      "3                 CANNALAB LLC \\nTrade Name: CANNALAB  TAAA-CIRX-CDDD   \n",
      "4   SYNCROSCAPE BUSINESS SERVICES \\nTrade Name: SY...  TAAA-XXBF-D15X   \n",
      "..                                                ...             ...   \n",
      "80  PAYCASH GROUP LLC \\nTrade Name: PAYCASH GROUP LLC  TAAA-EKJA-WRLG   \n",
      "81          T3 TRANSPORTATION LLC \\nTrade Name: STSOT  TAAA-IVCU-EKMB   \n",
      "82  TACTICAL TRANSPORTATION LLC \\nTrade Name: TACT...  TAAA-NK1S-4NSJ   \n",
      "83  WATCHMEN SECURITY AND PROTECTIVE SERVICES LLC ...  TAAA-4ORH-ADAN   \n",
      "84        CANNALYTICS LABORATORIES, LLC \\nTrade Name:  TAAA-NMO8-J0VU   \n",
      "\n",
      "                                        2           3            4        5  \\\n",
      "0                      CALAEB25@GMAIL.COM  4057404752          ADA  74820.0   \n",
      "1                    JAJENSEN06@GMAIL.COM  4054416540        ALLEN  74825.0   \n",
      "2                       LUVS420@YAHOO.COM  5804718768        ALTUS  73521.0   \n",
      "3                      PRFULMER@GMAIL.COM  4052505750      ARDMORE  73401.0   \n",
      "4                SYNCROSCAPE788@GMAIL.COM  5802775743      ARDMORE  73401.0   \n",
      "..                                    ...         ...          ...      ...   \n",
      "80                       GARY@MEGAWAT.COM  9186293130        TULSA  74119.0   \n",
      "81                MMARTUCCI@TULSAPAIN.ORG  9186450458        TULSA  74146.0   \n",
      "82  TREVOR@TACTICALTRANSPORTATI\\nONOK.COM  9187296194        TULSA  74112.0   \n",
      "83                   GBATES4909@YAHOO.COM  9184889538        TULSA  74128.0   \n",
      "84               MICAH@PROCANNALYTICS.COM  4053451050  WEATHERFORD  73096.0   \n",
      "\n",
      "           6   7    8 License_type  \n",
      "0   PONTOTOC NaN  NaN  transporter  \n",
      "1   PONTOTOC NaN  NaN  transporter  \n",
      "2    JACKSON NaN  NaN  transporter  \n",
      "3   OKLAHOMA NaN  NaN  transporter  \n",
      "4     CARTER NaN  NaN  transporter  \n",
      "..       ...  ..  ...          ...  \n",
      "80     TULSA NaN  NaN  transporter  \n",
      "81     TULSA NaN  NaN  transporter  \n",
      "82     TULSA NaN  NaN  transporter  \n",
      "83     TULSA NaN  NaN  transporter  \n",
      "84    CUSTER NaN  NaN  transporter  \n",
      "\n",
      "[82 rows x 10 columns]\n"
     ]
    }
   ],
   "source": [
    "# Manipulating transporter20210507.csv\n",
    "transporter = pd.read_csv(\"transporter20210507.csv\").drop(['Unnamed: 0', 'Unnamed: 0.1'],axis=1)\n",
    "transporter['License_type'] = \"transporter\"\n",
    "transporter = transporter[transporter['0'].notnull()]\n",
    "print(transporter)"
   ],
   "metadata": {
    "collapsed": false,
    "pycharm": {
     "name": "#%%\n"
    }
   }
  },
  {
   "cell_type": "code",
   "execution_count": 16,
   "outputs": [
    {
     "name": "stderr",
     "output_type": "stream",
     "text": [
      "c:\\users\\gurjar\\pycharmprojects\\pdftocsv\\venv\\lib\\site-packages\\pandas\\core\\frame.py:4308: SettingWithCopyWarning: \n",
      "A value is trying to be set on a copy of a slice from a DataFrame\n",
      "\n",
      "See the caveats in the documentation: https://pandas.pydata.org/pandas-docs/stable/user_guide/indexing.html#returning-a-view-versus-a-copy\n",
      "  return super().drop(\n"
     ]
    }
   ],
   "source": [
    "transporter_7thColIndex = transporter['7'].notnull()\n",
    "missing_data = transporter[transporter_7thColIndex]\n",
    "# print(missing_data)\n",
    "missing_data.drop('1', inplace=True, axis=1)\n",
    "missing_data.drop('2', inplace=True, axis=1)\n",
    "missing_data.columns=['business', 'license', 'email', 'phone', 'city', 'zip', 'county', 'license_type']\n",
    "missing_data = missing_data.replace('\\n','', regex=True)\n",
    "missing_data['zip'] = missing_data['zip'].astype(\"int64\")\n",
    "data=missing_data['business'].str.split(r'Trade Name:', expand=True)\n",
    "# print(data)\n",
    "missing_data['trade_name'] = data[1]\n",
    "missing_data['business'] = data[0]\n",
    "# print(missing_data)\n",
    "# missing_data.to_csv(\"transporter_missing_data.csv\", index=False)"
   ],
   "metadata": {
    "collapsed": false,
    "pycharm": {
     "name": "#%%  Missing Data Check\n"
    }
   }
  },
  {
   "cell_type": "code",
   "execution_count": 17,
   "outputs": [],
   "source": [
    "index_names_transporter = transporter[transporter['7'].notnull()].index\n",
    "transporter.drop(index_names_transporter, inplace=True)\n",
    "transporter.drop('7', inplace=True, axis=1)\n",
    "transporter.drop('8', inplace=True, axis=1)\n",
    "transporter.columns=['business', 'license', 'email', 'phone', 'city', 'zip', 'county', 'license_type']\n",
    "transporter = transporter.replace('\\n','', regex=True)\n",
    "transporter['zip'] = transporter['zip'].astype(\"int64\")\n",
    "data=transporter['business'].str.split(r'Trade Name:', expand=True)\n",
    "# print(data)\n",
    "transporter['trade_name'] = data[1]\n",
    "transporter['business'] = data[0]\n",
    "# print(transporter)"
   ],
   "metadata": {
    "collapsed": false,
    "pycharm": {
     "name": "#%% Removing NaN columns and Assigning names to the columns\n"
    }
   }
  },
  {
   "cell_type": "code",
   "execution_count": 18,
   "outputs": [],
   "source": [
    "frame = [transporter, missing_data]\n",
    "transporter = pd.concat(frame)\n",
    "# print(transporter)\n",
    "transporter.to_csv(\"enriched_data/transporter_df.csv\", index=False)"
   ],
   "metadata": {
    "collapsed": false,
    "pycharm": {
     "name": "#%% Merging the datasets\n"
    }
   }
  },
  {
   "cell_type": "code",
   "execution_count": null,
   "outputs": [],
   "source": [],
   "metadata": {
    "collapsed": false,
    "pycharm": {
     "name": "#%%\n"
    }
   }
  },
  {
   "cell_type": "code",
   "execution_count": 19,
   "outputs": [],
   "source": [
    "# Manipulating processor20210507.csv\n",
    "processor = pd.read_csv(\"processor20210507.csv\").drop(['Unnamed: 0', 'Unnamed: 0.1'],axis=1)\n",
    "processor['License_type'] = \"processor\"\n",
    "processor = processor[processor['0'].notnull()]\n",
    "# print(processor)\n"
   ],
   "metadata": {
    "collapsed": false,
    "pycharm": {
     "name": "#%%\n"
    }
   }
  },
  {
   "cell_type": "code",
   "execution_count": 20,
   "outputs": [
    {
     "name": "stderr",
     "output_type": "stream",
     "text": [
      "c:\\users\\gurjar\\pycharmprojects\\pdftocsv\\venv\\lib\\site-packages\\pandas\\core\\frame.py:4308: SettingWithCopyWarning: \n",
      "A value is trying to be set on a copy of a slice from a DataFrame\n",
      "\n",
      "See the caveats in the documentation: https://pandas.pydata.org/pandas-docs/stable/user_guide/indexing.html#returning-a-view-versus-a-copy\n",
      "  return super().drop(\n"
     ]
    }
   ],
   "source": [
    "processor_7thColIndex = processor['7'].notnull()\n",
    "missing_data = processor[processor_7thColIndex]\n",
    "# print(missing_data)\n",
    "missing_data.drop('1', inplace=True, axis=1)\n",
    "missing_data.drop('2', inplace=True, axis=1)\n",
    "# print(missing_data)\n",
    "missing_data.columns=['business', 'license', 'email', 'phone', 'city', 'zip', 'county', 'license_type']\n",
    "missing_data = missing_data.replace('\\n','', regex=True)\n",
    "missing_data['zip'] = missing_data['zip'].astype(\"int64\")\n",
    "data=missing_data['business'].str.split(r'Trade Name:', expand=True)\n",
    "# print(data)\n",
    "missing_data['trade_name'] = data[1]\n",
    "missing_data['business'] = data[0]\n",
    "# print(missing_data)\n"
   ],
   "metadata": {
    "collapsed": false,
    "pycharm": {
     "name": "#%%  Missing Data Check\n"
    }
   }
  },
  {
   "cell_type": "code",
   "execution_count": 21,
   "outputs": [],
   "source": [
    "index_names_processor = processor[processor['7'].notnull()].index\n",
    "processor.drop(index_names_processor, inplace=True)\n",
    "processor.drop('7', inplace=True, axis=1)\n",
    "processor.drop('8', inplace=True, axis=1)\n",
    "processor.columns=['business', 'license', 'email', 'phone', 'city', 'zip', 'county', 'license_type']\n",
    "processor = processor.replace('\\n','', regex=True)\n",
    "processor['zip'] = processor['zip'].astype(\"int64\")\n",
    "data=processor['business'].str.split(r'Trade Name:', expand=True)\n",
    "# print(data)\n",
    "processor['trade_name'] = data[1]\n",
    "processor['business'] = data[0]\n",
    "# print(processor)"
   ],
   "metadata": {
    "collapsed": false,
    "pycharm": {
     "name": "#%% Removing NaN columns and Assigning names to the columns\n"
    }
   }
  },
  {
   "cell_type": "code",
   "execution_count": 22,
   "outputs": [],
   "source": [
    "frame = [processor, missing_data]\n",
    "processor = pd.concat(frame)\n",
    "# print(processor)\n",
    "processor.to_csv(\"enriched_data/processor_df.csv\", index=False)\n"
   ],
   "metadata": {
    "collapsed": false,
    "pycharm": {
     "name": "#%% Merging the datasets\n"
    }
   }
  },
  {
   "cell_type": "code",
   "execution_count": 25,
   "outputs": [],
   "source": [
    "# Manipulating laboratory20210507.csv\n",
    "laboratory = pd.read_csv(\"laboratory20210507.csv\").drop(['Unnamed: 0', 'Unnamed: 0.1'],axis=1)\n",
    "laboratory['License_type'] = \"laboratory\"\n",
    "laboratory = laboratory[laboratory['0'].notnull()]\n",
    "# print(laboratory)"
   ],
   "metadata": {
    "collapsed": false,
    "pycharm": {
     "name": "#%%\n"
    }
   }
  },
  {
   "cell_type": "code",
   "execution_count": 26,
   "outputs": [],
   "source": [
    "laboratory.columns=['business', 'license', 'email', 'phone', 'city', 'zip', 'county', 'license_type']\n",
    "laboratory = laboratory.replace('\\n','', regex=True)\n",
    "laboratory['zip'] = laboratory['zip'].astype(\"int64\")\n",
    "data=laboratory['business'].str.split(r'Trade Name:', expand=True)\n",
    "# print(data)\n",
    "laboratory['trade_name'] = data[1]\n",
    "laboratory['business'] = data[0]\n",
    "# print(laboratory)\n",
    "laboratory.to_csv(\"enriched_data/laboratory_df.csv\", index=False)\n"
   ],
   "metadata": {
    "collapsed": false,
    "pycharm": {
     "name": "#%% Assigning names to the laboratory data\n"
    }
   }
  },
  {
   "cell_type": "code",
   "execution_count": 5,
   "outputs": [
    {
     "name": "stdout",
     "output_type": "stream",
     "text": [
      "                                  business         license  \\\n",
      "0      CORNERSTONE ENVIRONMENTAL SERVICES   WAAA-2XVW-XVWM   \n",
      "1              STEALTH BUSINESS SOLUTIONS   WAAA-41VQ-NN3L   \n",
      "2                       MAVEN ENERGY, LLC   WAAA-B91V-AX5C   \n",
      "3   OKLAHOMA GREEN TO GOLD RECYCLING LLC.   WAAA-WIPF-M8OX   \n",
      "7     SOONER MEDICAL WASTE MANAGEMENT LLC   WAAA-4YCA-4VEU   \n",
      "8              BURN IT THE LEGAL WAY, LLC   WAAA-YVPD-PF6I   \n",
      "9                        AJP DISPOSAL LLC   WAAA-VJ4M-N4ZT   \n",
      "10                     ENSO SOLUTIONS LLC   WAAA-NKR2-CRLO   \n",
      "11                   GREEN LEAF WASTE LLC   WAAA-VYYU-I4KQ   \n",
      "\n",
      "                                 email       phone           city    zip  \\\n",
      "0             TYLER.SMITH@GOTILLEY.COM  5807993774         DUNCAN  73533   \n",
      "1   STEALTHBUSINESSSOLUTIONS@GMAIL.COM  4056405633         EDMOND  73003   \n",
      "2      EGNITEWASTEMANAGEMENT@GMAIL.COM  4053148757        GUTHRIE  73044   \n",
      "3               DAAW8272@SBCGLOBAL.NET  4796510950         MEEKER  74855   \n",
      "7        ELAINE@SOONERMEDICALWASTE.COM  4799261901        MULDROW  74948   \n",
      "8              BURNITLEGALLY@GMAIL.COM  4053179998  OKLAHOMA CITY  73114   \n",
      "9             AJPDISPOSALLLC@GMAIL.COM  4054298360  OKLAHOMA CITY  73106   \n",
      "10           INFO@ENSOSOLUTIONSLLC.COM  4054939392  OKLAHOMA CITY  73129   \n",
      "11             NICK@FIRSTCOMPANIES.NET  4058485524  OKLAHOMA CITY  73109   \n",
      "\n",
      "          county    license_type                              trade_name  \n",
      "0       STEPHENS  waste_disposal      CORNERSTONE ENVIRONMENTAL SERVICES  \n",
      "1       OKLAHOMA  waste_disposal                         STEALTH RECYCLE  \n",
      "2          LOGAN  waste_disposal                 EGNITE WASTE MANAGEMENT  \n",
      "3   POTTAWATOMIE  waste_disposal   OKLAHOMA GREEN TO GOLD RECYCLING LLC.  \n",
      "7       SEQUOYAH  waste_disposal    SOONER MEDICAL WASTE MANAGEMENT, LLC  \n",
      "8       OKLAHOMA  waste_disposal              BURN IT THE LEGAL WAY, LLC  \n",
      "9       OKLAHOMA  waste_disposal              CANNABIS RECYCLING COMPANY  \n",
      "10      OKLAHOMA  waste_disposal                      ENSO SOLUTIONS LLC  \n",
      "11      OKLAHOMA  waste_disposal                        GREEN LEAF WASTE  \n"
     ]
    }
   ],
   "source": [
    "# Manipulating waste_disposal20210507.csv\n",
    "waste_disposal = pd.read_csv(\"waste_disposal20210507.csv\").drop(['Unnamed: 0', 'Unnamed: 0.1'],axis=1)\n",
    "waste_disposal['License_type'] = \"waste_disposal\"\n",
    "waste_disposal = waste_disposal[waste_disposal['0'].notnull()]\n",
    "waste_disposal.drop('1', inplace=True, axis=1)\n",
    "waste_disposal.drop('2', inplace=True, axis=1)\n",
    "waste_disposal.columns=['business', 'license', 'email', 'phone', 'city', 'zip', 'county', 'license_type']\n",
    "waste_disposal = waste_disposal.replace('\\n','', regex=True)\n",
    "waste_disposal['zip'] = waste_disposal['zip'].astype(\"int64\")\n",
    "waste_disposal['phone'] = waste_disposal['phone'].astype(\"int64\")\n",
    "data=waste_disposal['business'].str.split(r'Trade Name:', expand=True)\n",
    "# print(data)\n",
    "waste_disposal['trade_name'] = data[1]\n",
    "waste_disposal['business'] = data[0]\n",
    "print(waste_disposal)\n",
    "# waste_disposal.to_csv(\"waste_disposal_df.csv\", index=False)"
   ],
   "metadata": {
    "collapsed": false,
    "pycharm": {
     "name": "#%%\n"
    }
   }
  },
  {
   "cell_type": "code",
   "execution_count": 27,
   "outputs": [
    {
     "name": "stdout",
     "output_type": "stream",
     "text": [
      "                                   business         license  \\\n",
      "0       CORNERSTONE ENVIRONMENTAL SERVICES   WAAA-2XVW-XVWM   \n",
      "1               STEALTH BUSINESS SOLUTIONS   WAAA-41VQ-NN3L   \n",
      "2                        MAVEN ENERGY, LLC   WAAA-B91V-AX5C   \n",
      "3    OKLAHOMA GREEN TO GOLD RECYCLING LLC.   WAAA-WIPF-M8OX   \n",
      "7      SOONER MEDICAL WASTE MANAGEMENT LLC   WAAA-4YCA-4VEU   \n",
      "..                                      ...             ...   \n",
      "490                             ANH WALKER   PAAA-EYB4-AJTP   \n",
      "491             BELLA VISTA COLLECTIVE LLC   PAAA-JNQT-7FG2   \n",
      "492                        BUD HUT MD INC.   PAAA-4JFV-WFHV   \n",
      "493                FLUFFYS APOTHECARY INC.   PAAA-4JRY-AGGT   \n",
      "494                         FPC GROUP, LLC   PAAA-4JTU-YSMH   \n",
      "\n",
      "                                  email         phone     city    zip  \\\n",
      "0              TYLER.SMITH@GOTILLEY.COM    5807993774   DUNCAN  73533   \n",
      "1    STEALTHBUSINESSSOLUTIONS@GMAIL.COM    4056405633   EDMOND  73003   \n",
      "2       EGNITEWASTEMANAGEMENT@GMAIL.COM    4053148757  GUTHRIE  73044   \n",
      "3                DAAW8272@SBCGLOBAL.NET    4796510950   MEEKER  74855   \n",
      "7         ELAINE@SOONERMEDICALWASTE.COM    4799261901  MULDROW  74948   \n",
      "..                                  ...           ...      ...    ...   \n",
      "490             INFO@BLOOMSINDUSTRY.COM  5805833035.0   LAWTON  73505   \n",
      "491             GATORS4EVER08@YAHOO.COM  5807042797.0   LAWTON  73501   \n",
      "492                   INFO@BUDHUTMD.COM  4052138801.0   LAWTON  73501   \n",
      "493                  KLM@FLUFFYISOK.COM  5802500322.0   LAWTON  73505   \n",
      "494                  JEFF@SEE3FARMS.COM  4695768207.0   LAWTON  73501   \n",
      "\n",
      "           county    license_type                              trade_name  \n",
      "0        STEPHENS  waste_disposal      CORNERSTONE ENVIRONMENTAL SERVICES  \n",
      "1        OKLAHOMA  waste_disposal                         STEALTH RECYCLE  \n",
      "2           LOGAN  waste_disposal                 EGNITE WASTE MANAGEMENT  \n",
      "3    POTTAWATOMIE  waste_disposal   OKLAHOMA GREEN TO GOLD RECYCLING LLC.  \n",
      "7        SEQUOYAH  waste_disposal    SOONER MEDICAL WASTE MANAGEMENT, LLC  \n",
      "..            ...             ...                                     ...  \n",
      "490      COMANCHE       processor                         BLOOMS INDUSTRY  \n",
      "491      COMANCHE       processor              BELLA VISTA COLLECTIVE LLC  \n",
      "492      COMANCHE       processor                      BUD HUT PROCESSING  \n",
      "493      COMANCHE       processor                     FLUFFY'S APOTHECARY  \n",
      "494      COMANCHE       processor                          VERTICAL VIBEZ  \n",
      "\n",
      "[11288 rows x 9 columns]\n"
     ]
    }
   ],
   "source": [
    "## UNCOMMENT the following code to have one combined file of all the liceses.\n",
    "## To combine all licenses data into one combined csv\n",
    "frame = [waste_disposal, laboratory, dispensaries, transporter, growers, processor]\n",
    "result = pd.concat(frame)\n",
    "print(result)\n",
    "result.to_csv(\"enriched_data/combined_data.csv\", index=False)"
   ],
   "metadata": {
    "collapsed": false,
    "pycharm": {
     "name": "#%%\n"
    }
   }
  }
 ],
 "metadata": {
  "kernelspec": {
   "display_name": "Python 3",
   "language": "python",
   "name": "python3"
  },
  "language_info": {
   "codemirror_mode": {
    "name": "ipython",
    "version": 2
   },
   "file_extension": ".py",
   "mimetype": "text/x-python",
   "name": "python",
   "nbconvert_exporter": "python",
   "pygments_lexer": "ipython2",
   "version": "2.7.6"
  }
 },
 "nbformat": 4,
 "nbformat_minor": 0
}