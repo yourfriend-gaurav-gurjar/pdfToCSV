{
 "cells": [
  {
   "cell_type": "code",
   "execution_count": 133,
   "metadata": {
    "collapsed": true
   },
   "outputs": [],
   "source": [
    "import pandas as pd\n",
    "import glob\n",
    "import numpy as np\n",
    "import matplotlib.pyplot as plt\n",
    "import numpy"
   ]
  },
  {
   "cell_type": "code",
   "execution_count": 160,
   "outputs": [],
   "source": [
    "extension = 'csv'\n",
    "all_filenames = [i for i in glob.glob('*.{}'.format(extension))]\n",
    "license_type = \"license_type\"\n"
   ],
   "metadata": {
    "collapsed": false,
    "pycharm": {
     "name": "#%%\n"
    }
   }
  },
  {
   "cell_type": "code",
   "execution_count": 161,
   "outputs": [
    {
     "name": "stdout",
     "output_type": "stream",
     "text": [
      "                                                      0               1  \\\n",
      "0     AFFORDABLE CANNABIS LLC \\nTrade Name: AFFORDAB...  DAAA-4YLJ-MSMT   \n",
      "1     ALL NATURAL SOLUTIONS LLC \\nTrade Name: ALL NA...  DAAA-7AIW-VKIL   \n",
      "2       ALPHA DISPENSARY OF OKLAHOMA, LLC \\nTrade Name:  DAAA-IAAN-QZA7   \n",
      "3            CAIN'S CANNABIS \\nTrade Name: 2 CAIN'S LLC  DAAA-4KEO-TRND   \n",
      "4     CHIMNEY HILL APOTHECARY LLC \\nTrade Name: CHIM...  DAAA-E11N-WX1L   \n",
      "...                                                 ...             ...   \n",
      "2232        THC THE HEALING CANNABIS, LLC \\nTrade Name:  DAAA-4K5H-AFF7   \n",
      "2233  THE GREEN LIGHT LLC \\nTrade Name: THE GREEN LI...  DAAA-41YC-QCW0   \n",
      "2234  TOP FLIGHT DISTRIBUTION,LLC \\nTrade Name: TOP ...  DAAA-EJO0-RERR   \n",
      "2235                 TWISTED EXTRACTS LLC \\nTrade Name:  DAAA-4K1N-BVGH   \n",
      "2236  A & R MED SHOP, LLC \\nTrade Name: MEDSHOP405, LLC  DAAA-WZD3-T2IA   \n",
      "\n",
      "                                      2           3              4        5  \\\n",
      "0      BELINDASLAKEPARADISE@GMAIL.C\\nOM  5803202301            ADA  74820.0   \n",
      "1                 ALLNATURALADA@ATT.NET  5802724041            ADA  74820.0   \n",
      "2               NEW.GARDEN.OK@GMAIL.COM  4048893333            ADA  74820.0   \n",
      "3                    TWOCAINS@YAHOO.COM  5802798435            ADA  74820.0   \n",
      "4     CHIMNEYHILLAPOTHECARY@GMAIL\\n.COM  5802790514            ADA  74820.0   \n",
      "...                                 ...         ...            ...      ...   \n",
      "2232              MIKEARNETT1@GMAIL.COM  4057670522  OKLAHOMA CITY  73159.0   \n",
      "2233      ROBSGREENLIGHT420@GMAIL.CO\\nM  4052373470  OKLAHOMA CITY  73159.0   \n",
      "2234                   TERRY@GPODHS.COM  7602881530  OKLAHOMA CITY  73159.0   \n",
      "2235            MASONBRIANNE3@GMAIL.COM  4056691938  OKLAHOMA CITY  73159.0   \n",
      "2236               MEDSHOP405@GMAIL.COM  8704504444  OKLAHOMA CITY  73162.0   \n",
      "\n",
      "             6   7    8  License_type  \n",
      "0     PONTOTOC NaN  NaN  dispensaries  \n",
      "1     PONTOTOC NaN  NaN  dispensaries  \n",
      "2     PONTOTOC NaN  NaN  dispensaries  \n",
      "3     PONTOTOC NaN  NaN  dispensaries  \n",
      "4     PONTOTOC NaN  NaN  dispensaries  \n",
      "...        ...  ..  ...           ...  \n",
      "2232  OKLAHOMA NaN  NaN  dispensaries  \n",
      "2233  OKLAHOMA NaN  NaN  dispensaries  \n",
      "2234  OKLAHOMA NaN  NaN  dispensaries  \n",
      "2235  OKLAHOMA NaN  NaN  dispensaries  \n",
      "2236  OKLAHOMA NaN  NaN  dispensaries  \n",
      "\n",
      "[2222 rows x 10 columns]\n"
     ]
    }
   ],
   "source": [
    "# Manipulating dispensaries20210507.csv\n",
    "dispensaries = pd.read_csv(\"dispensaries20210507.csv\").drop(['Unnamed: 0', 'Unnamed: 0.1'],axis=1)\n",
    "dispensaries['License_type'] = \"dispensaries\"\n",
    "dispensaries = dispensaries[dispensaries['0'].notnull()]\n",
    "# print(dispensaries)"
   ],
   "metadata": {
    "collapsed": false,
    "pycharm": {
     "name": "#%%\n"
    }
   }
  },
  {
   "cell_type": "code",
   "execution_count": 162,
   "outputs": [
    {
     "name": "stdout",
     "output_type": "stream",
     "text": [
      "                               business         license  \\\n",
      "718                      WEEDMART LLC.   DAAA-QPR8-RHZM   \n",
      "719             NORTH WEST HEALING LLC   DAAA-41LM-T4DT   \n",
      "720                CLASSY HOLDINGS LLC   DAAA-M33A-X5DT   \n",
      "721   COPPERHEAD HOLLOW DISPENSARY LLC   DAAA-4YUT-TXLD   \n",
      "722             GREEN CROSS DISPENSARY   DAAA-4KNM-UNC6   \n",
      "...                                 ...             ...   \n",
      "1677                  POT OF GOLD, LLC   DAAA-0OSQ-M3HP   \n",
      "1678             RS.RV ENTERPRISES LLC   DAAA-V1LJ-W4TL   \n",
      "1679                     SOUL LEAF LLC   DAAA-EY8X-A4MI   \n",
      "1680                  THE GREEN TEMPLE   DAAA-NJ1I-KI0H   \n",
      "1681                       TK0528, LLC   DAAA-EK8Y-UVFR   \n",
      "\n",
      "                                  email         phone          city    zip  \\\n",
      "718                WEEDMARTLC@GMAIL.COM  9.182081e+09          VIAN  74962   \n",
      "719       NORTHWESTHEALINGLLC@GMAIL.COM  5.809953e+09          VICI  73859   \n",
      "720                   JASON@UGRLABS.COM  7.606007e+09        VINITA  74301   \n",
      "721                   FLHTCMAN@LIVE.COM  9.188037e+09        VINITA  74301   \n",
      "722             PARKCARTER43@ICLOUD.COM  9.183232e+09        VINITA  74301   \n",
      "...                                 ...           ...           ...    ...   \n",
      "1677             LISSA@POTOFGOLDLLC.COM  7.204996e+09  MIDWEST CITY  73110   \n",
      "1678           MWC.OWNER@CBDPLUSUSA.COM  4.054318e+09  MIDWEST CITY  73110   \n",
      "1679             S.FRANKLIN9@ICLOUD.COM  4.052510e+09  MIDWEST CITY  73110   \n",
      "1680      GMCCUTCHAN@GREAT-WESTCORP.COM  4.054083e+09  MIDWEST CITY  73110   \n",
      "1681  KAIMBRIWHITE@CLIMB-COLLECTIVE.COM  4.698882e+09  MIDWEST CITY  73110   \n",
      "\n",
      "        county  license_type                         trade_name  \n",
      "718   SEQUOYAH  dispensaries                        WEEDMART #2  \n",
      "719      DEWEY  dispensaries             NORTH WEST HEALING LLC  \n",
      "720      CRAIG  dispensaries                       CLASSY GRASS  \n",
      "721      CRAIG  dispensaries   COPPERHEAD HOLLOW DISPENSARY LLC  \n",
      "722      CRAIG  dispensaries             GREEN CROSS DISPENSARY  \n",
      "...        ...           ...                                ...  \n",
      "1677  OKLAHOMA  dispensaries                   POT OF GOLD, LLC  \n",
      "1678  OKLAHOMA  dispensaries                       CBD PLUS USA  \n",
      "1679  OKLAHOMA  dispensaries                          SOUL LEAF  \n",
      "1680  OKLAHOMA  dispensaries                                     \n",
      "1681  OKLAHOMA  dispensaries                       CAPITAL DANK  \n",
      "\n",
      "[70 rows x 9 columns]\n"
     ]
    },
    {
     "name": "stderr",
     "output_type": "stream",
     "text": [
      "c:\\users\\gurjar\\pycharmprojects\\pdftocsv\\venv\\lib\\site-packages\\pandas\\core\\frame.py:4308: SettingWithCopyWarning: \n",
      "A value is trying to be set on a copy of a slice from a DataFrame\n",
      "\n",
      "See the caveats in the documentation: https://pandas.pydata.org/pandas-docs/stable/user_guide/indexing.html#returning-a-view-versus-a-copy\n",
      "  return super().drop(\n"
     ]
    }
   ],
   "source": [
    "# Figuring out the datasets with empty columns\n",
    "dispensaries_7thColIndex = dispensaries['7'].notnull()\n",
    "missing_data = dispensaries[dispensaries_7thColIndex]\n",
    "missing_data.drop('1', inplace=True, axis=1)\n",
    "missing_data.drop('2', inplace=True, axis=1)\n",
    "missing_data.columns=['business', 'license', 'email', 'phone', 'city', 'zip', 'county', 'license_type']\n",
    "missing_data = missing_data.replace('\\n','', regex=True)\n",
    "missing_data['zip'] = missing_data['zip'].astype(\"int64\")\n",
    "data=missing_data['business'].str.split(r'Trade Name:', expand=True)\n",
    "# print(data)\n",
    "missing_data['trade_name'] = data[1]\n",
    "missing_data['business'] = data[0]\n",
    "# print(missing_data)\n",
    "# missing_data.to_csv(\"dispensaries_missing_data.csv\", index=False)"
   ],
   "metadata": {
    "collapsed": false,
    "pycharm": {
     "name": "#%%\n"
    }
   }
  },
  {
   "cell_type": "code",
   "execution_count": 163,
   "outputs": [
    {
     "name": "stdout",
     "output_type": "stream",
     "text": [
      "                                business         license  \\\n",
      "0               AFFORDABLE CANNABIS LLC   DAAA-4YLJ-MSMT   \n",
      "1             ALL NATURAL SOLUTIONS LLC   DAAA-7AIW-VKIL   \n",
      "2     ALPHA DISPENSARY OF OKLAHOMA, LLC   DAAA-IAAN-QZA7   \n",
      "3                       CAIN'S CANNABIS   DAAA-4KEO-TRND   \n",
      "4           CHIMNEY HILL APOTHECARY LLC   DAAA-E11N-WX1L   \n",
      "...                                  ...             ...   \n",
      "2232      THC THE HEALING CANNABIS, LLC   DAAA-4K5H-AFF7   \n",
      "2233                THE GREEN LIGHT LLC   DAAA-41YC-QCW0   \n",
      "2234        TOP FLIGHT DISTRIBUTION,LLC   DAAA-EJO0-RERR   \n",
      "2235               TWISTED EXTRACTS LLC   DAAA-4K1N-BVGH   \n",
      "2236                A & R MED SHOP, LLC   DAAA-WZD3-T2IA   \n",
      "\n",
      "                                email       phone           city    zip  \\\n",
      "0      BELINDASLAKEPARADISE@GMAIL.COM  5803202301            ADA  74820   \n",
      "1               ALLNATURALADA@ATT.NET  5802724041            ADA  74820   \n",
      "2             NEW.GARDEN.OK@GMAIL.COM  4048893333            ADA  74820   \n",
      "3                  TWOCAINS@YAHOO.COM  5802798435            ADA  74820   \n",
      "4     CHIMNEYHILLAPOTHECARY@GMAIL.COM  5802790514            ADA  74820   \n",
      "...                               ...         ...            ...    ...   \n",
      "2232            MIKEARNETT1@GMAIL.COM  4057670522  OKLAHOMA CITY  73159   \n",
      "2233      ROBSGREENLIGHT420@GMAIL.COM  4052373470  OKLAHOMA CITY  73159   \n",
      "2234                 TERRY@GPODHS.COM  7602881530  OKLAHOMA CITY  73159   \n",
      "2235          MASONBRIANNE3@GMAIL.COM  4056691938  OKLAHOMA CITY  73159   \n",
      "2236             MEDSHOP405@GMAIL.COM  8704504444  OKLAHOMA CITY  73162   \n",
      "\n",
      "        county  license_type                    trade_name  \n",
      "0     PONTOTOC  dispensaries       AFFORDABLE CANNABIS LLC  \n",
      "1     PONTOTOC  dispensaries         ALL NATURAL SOLUTIONS  \n",
      "2     PONTOTOC  dispensaries                                \n",
      "3     PONTOTOC  dispensaries                  2 CAIN'S LLC  \n",
      "4     PONTOTOC  dispensaries   CHIMNEY HILL APOTHECARY LLC  \n",
      "...        ...           ...                           ...  \n",
      "2232  OKLAHOMA  dispensaries                                \n",
      "2233  OKLAHOMA  dispensaries           THE GREEN LIGHT LLC  \n",
      "2234  OKLAHOMA  dispensaries                    TOP FLIGHT  \n",
      "2235  OKLAHOMA  dispensaries                                \n",
      "2236  OKLAHOMA  dispensaries               MEDSHOP405, LLC  \n",
      "\n",
      "[2152 rows x 9 columns]\n"
     ]
    }
   ],
   "source": [
    "# Indexing the missing data and subsetting with the main dataset 'dispensaries'\n",
    "index_names_dispensaries = dispensaries[dispensaries['7'].notnull()].index\n",
    "# print(index_names_dispensaries)\n",
    "dispensaries.drop(index_names_dispensaries, inplace=True)\n",
    "dispensaries.drop('7', inplace=True, axis=1)\n",
    "dispensaries.drop('8', inplace=True, axis=1)\n",
    "dispensaries.columns=['business', 'license', 'email', 'phone', 'city', 'zip', 'county', 'license_type']\n",
    "dispensaries = dispensaries.replace('\\n','', regex=True)\n",
    "dispensaries['zip'] = dispensaries['zip'].astype(\"int64\")\n",
    "data=dispensaries['business'].str.split(r'Trade Name:', expand=True)\n",
    "# print(data)\n",
    "dispensaries['trade_name'] = data[1]\n",
    "dispensaries['business'] = data[0]\n",
    "# print(dispensaries)\n",
    "# dispensaries.to_csv(\"dispensaries_complete_cases.csv\", index=False)"
   ],
   "metadata": {
    "collapsed": false,
    "pycharm": {
     "name": "#%% Finding the complete cases after parsing and reading the csv\n"
    }
   }
  },
  {
   "cell_type": "code",
   "execution_count": 164,
   "outputs": [],
   "source": [
    "frame = [dispensaries, missing_data]\n",
    "dispensaries = pd.concat(frame)\n",
    "print(dispensaries)\n",
    "# dispensaries.to_csv(\"dispensaries_df.csv\", index=False)\n"
   ],
   "metadata": {
    "collapsed": false,
    "pycharm": {
     "name": "#%% Combining the missing data and manipulated data\n"
    }
   }
  },
  {
   "cell_type": "code",
   "execution_count": 171,
   "outputs": [
    {
     "name": "stdout",
     "output_type": "stream",
     "text": [
      "                                                      0               1  \\\n",
      "0             CALYX ORGANIX \\nTrade Name: CALYX ORGANIX  GAAA-EKEC-HK8N   \n",
      "1     GATORJACKS RANCH LLC \\nTrade Name: GATORJACKS ...  GAAA-HQLJ-7DMZ   \n",
      "2                          4H PHARMS, LLC \\nTrade Name:  GAAA-SPNU-6L9I   \n",
      "3     7 LEAF SOLUTIONS, LLC \\nTrade Name: 7 LEAF SOL...  GAAA-EYBQ-7UFS   \n",
      "4     7 LEAF SOLUTIONS, LLC \\nTrade Name: 7 LEAF SOL...  GAAA-4JBJ-BTWC   \n",
      "...                                                 ...             ...   \n",
      "7552  BEEGREEN ACRES, INC. \\nTrade Name: BEEGREEN AC...  GAAA-4YGQ-ABED   \n",
      "7553  DOS OKIES FARMS, LLC \\nTrade Name: DOS OKIES F...  GAAA-EYCH-C8IW   \n",
      "7554            GREEN TREASSURE FARM, LLC \\nTrade Name:  GAAA-SFQG-MET7   \n",
      "7555  HUSTLE AND GROW FARMS, LLC \\nTrade Name: HUSTL...  GAAA-IDW3-XPCH   \n",
      "7556  KEYSTONE FARMS, LLC \\nTrade Name: KEYSTONE FAR...  GAAA-NKV3-Y9DY   \n",
      "\n",
      "                                2           3          4        5         6  \\\n",
      "0            MJBING78@HOTMAIL.COM  2146204308    ACHILLE  74720.0     BRYAN   \n",
      "1            SKPATT0582@YAHOO.COM  5809205074    ACHILLE  74720.0     BRYAN   \n",
      "2             KIMBER@4HPHARMS.COM  5803203062        ADA  74820.0  PONTOTOC   \n",
      "3        7LEAFSOKLAHOMA@GMAIL.COM  2097693036        ADA  74820.0  PONTOTOC   \n",
      "4        7LEAFSOKLAHOMA@GMAIL.COM  2097771037        ADA  74820.0  PONTOTOC   \n",
      "...                           ...         ...        ...      ...       ...   \n",
      "7552   BEEGREENACRESINC@GMAIL.COM  9188141682  CLEVELAND  74020.0    PAWNEE   \n",
      "7553  INFO@HEALINGSOLUTIONSOK.COM  3038808910  CLEVELAND  74020.0    PAWNEE   \n",
      "7554     ALEXISDANIROLO@GMAIL.COM  9188457602  CLEVELAND  74020.0    PAWNEE   \n",
      "7555        WENDY.AGUIRRE@ATT.NET  9188557216  CLEVELAND  74020.0    PAWNEE   \n",
      "7556        TAMMYSFLYNN@GMAIL.COM  9189398215  CLEVELAND  74020.0    PAWNEE   \n",
      "\n",
      "       7    8 License_type  \n",
      "0    NaN  NaN      growers  \n",
      "1    NaN  NaN      growers  \n",
      "2    NaN  NaN      growers  \n",
      "3    NaN  NaN      growers  \n",
      "4    NaN  NaN      growers  \n",
      "...   ..  ...          ...  \n",
      "7552 NaN  NaN      growers  \n",
      "7553 NaN  NaN      growers  \n",
      "7554 NaN  NaN      growers  \n",
      "7555 NaN  NaN      growers  \n",
      "7556 NaN  NaN      growers  \n",
      "\n",
      "[7551 rows x 10 columns]\n"
     ]
    }
   ],
   "source": [
    "# Manipulating growers20210507.csv\n",
    "growers = pd.read_csv(\"growers20210507.csv\").drop(['Unnamed: 0', 'Unnamed: 0.1'],axis=1)\n",
    "growers['License_type'] = \"growers\"\n",
    "growers = growers[growers['0'].notnull()]\n",
    "# print(growers)"
   ],
   "metadata": {
    "collapsed": false,
    "pycharm": {
     "name": "#%%\n"
    }
   }
  },
  {
   "cell_type": "code",
   "execution_count": 172,
   "outputs": [
    {
     "name": "stderr",
     "output_type": "stream",
     "text": [
      "c:\\users\\gurjar\\pycharmprojects\\pdftocsv\\venv\\lib\\site-packages\\pandas\\core\\frame.py:4308: SettingWithCopyWarning: \n",
      "A value is trying to be set on a copy of a slice from a DataFrame\n",
      "\n",
      "See the caveats in the documentation: https://pandas.pydata.org/pandas-docs/stable/user_guide/indexing.html#returning-a-view-versus-a-copy\n",
      "  return super().drop(\n"
     ]
    }
   ],
   "source": [
    "growers_7thColIndex = growers['7'].notnull()\n",
    "missing_data = growers[growers_7thColIndex]\n",
    "# print(missing_data)\n",
    "missing_data.drop('1', inplace=True, axis=1)\n",
    "missing_data.drop('2', inplace=True, axis=1)\n",
    "missing_data.columns=['business', 'license', 'email', 'phone', 'city', 'zip', 'county', 'license_type']\n",
    "missing_data = missing_data.replace('\\n','', regex=True)\n",
    "missing_data['zip'] = missing_data['zip'].astype(\"int64\")\n",
    "data=missing_data['business'].str.split(r'Trade Name:', expand=True)\n",
    "# print(data)\n",
    "missing_data['trade_name'] = data[1]\n",
    "missing_data['business'] = data[0]\n",
    "# print(missing_data)\n",
    "# missing_data.to_csv(\"growers_missing_data.csv\", index=False)"
   ],
   "metadata": {
    "collapsed": false,
    "pycharm": {
     "name": "#%%  Missing Data Check\n"
    }
   }
  },
  {
   "cell_type": "code",
   "execution_count": 173,
   "outputs": [
    {
     "name": "stdout",
     "output_type": "stream",
     "text": [
      "                         business         license  \\\n",
      "0                  CALYX ORGANIX   GAAA-EKEC-HK8N   \n",
      "1           GATORJACKS RANCH LLC   GAAA-HQLJ-7DMZ   \n",
      "2                 4H PHARMS, LLC   GAAA-SPNU-6L9I   \n",
      "3          7 LEAF SOLUTIONS, LLC   GAAA-EYBQ-7UFS   \n",
      "4          7 LEAF SOLUTIONS, LLC   GAAA-4JBJ-BTWC   \n",
      "...                           ...             ...   \n",
      "7552        BEEGREEN ACRES, INC.   GAAA-4YGQ-ABED   \n",
      "7553        DOS OKIES FARMS, LLC   GAAA-EYCH-C8IW   \n",
      "7554   GREEN TREASSURE FARM, LLC   GAAA-SFQG-MET7   \n",
      "7555  HUSTLE AND GROW FARMS, LLC   GAAA-IDW3-XPCH   \n",
      "7556         KEYSTONE FARMS, LLC   GAAA-NKV3-Y9DY   \n",
      "\n",
      "                            email       phone       city    zip    county  \\\n",
      "0            MJBING78@HOTMAIL.COM  2146204308    ACHILLE  74720     BRYAN   \n",
      "1            SKPATT0582@YAHOO.COM  5809205074    ACHILLE  74720     BRYAN   \n",
      "2             KIMBER@4HPHARMS.COM  5803203062        ADA  74820  PONTOTOC   \n",
      "3        7LEAFSOKLAHOMA@GMAIL.COM  2097693036        ADA  74820  PONTOTOC   \n",
      "4        7LEAFSOKLAHOMA@GMAIL.COM  2097771037        ADA  74820  PONTOTOC   \n",
      "...                           ...         ...        ...    ...       ...   \n",
      "7552   BEEGREENACRESINC@GMAIL.COM  9188141682  CLEVELAND  74020    PAWNEE   \n",
      "7553  INFO@HEALINGSOLUTIONSOK.COM  3038808910  CLEVELAND  74020    PAWNEE   \n",
      "7554     ALEXISDANIROLO@GMAIL.COM  9188457602  CLEVELAND  74020    PAWNEE   \n",
      "7555        WENDY.AGUIRRE@ATT.NET  9188557216  CLEVELAND  74020    PAWNEE   \n",
      "7556        TAMMYSFLYNN@GMAIL.COM  9189398215  CLEVELAND  74020    PAWNEE   \n",
      "\n",
      "     license_type                    trade_name  \n",
      "0         growers                 CALYX ORGANIX  \n",
      "1         growers          GATORJACKS RANCH LLC  \n",
      "2         growers                                \n",
      "3         growers         7 LEAF SOLUTIONS, LLC  \n",
      "4         growers         7 LEAF SOLUTIONS, LLC  \n",
      "...           ...                           ...  \n",
      "7552      growers          BEEGREEN ACRES, INC.  \n",
      "7553      growers               DOS OKIES FARMS  \n",
      "7554      growers                                \n",
      "7555      growers   HUSTLE AND GROW CANNABIS CO  \n",
      "7556      growers           KEYSTONE FARMS, LLC  \n",
      "\n",
      "[7523 rows x 9 columns]\n"
     ]
    }
   ],
   "source": [
    "index_names_growers = growers[growers['7'].notnull()].index\n",
    "growers.drop(index_names_growers, inplace=True)\n",
    "growers.drop('7', inplace=True, axis=1)\n",
    "growers.drop('8', inplace=True, axis=1)\n",
    "growers.columns=['business', 'license', 'email', 'phone', 'city', 'zip', 'county', 'license_type']\n",
    "growers = growers.replace('\\n','', regex=True)\n",
    "growers['zip'] = growers['zip'].astype(\"int64\")\n",
    "data=growers['business'].str.split(r'Trade Name:', expand=True)\n",
    "# print(data)\n",
    "growers['trade_name'] = data[1]\n",
    "growers['business'] = data[0]\n",
    "# print(growers)\n",
    "# growers.to_csv(\"growers.csv\", index=False)"
   ],
   "metadata": {
    "collapsed": false,
    "pycharm": {
     "name": "#%% Removing NaN columns and Assigning names to the columns\n"
    }
   }
  },
  {
   "cell_type": "code",
   "execution_count": 174,
   "outputs": [],
   "source": [
    "frame = [growers, missing_data]\n",
    "growers = pd.concat(frame)\n",
    "# print(growers)\n",
    "growers.to_csv(\"growers_df.csv\", index=False)"
   ],
   "metadata": {
    "collapsed": false,
    "pycharm": {
     "name": "#%% Combining the missing data and manipulated data\n"
    }
   }
  },
  {
   "cell_type": "code",
   "execution_count": null,
   "outputs": [],
   "source": [],
   "metadata": {
    "collapsed": false,
    "pycharm": {
     "name": "#%%\n"
    }
   }
  },
  {
   "cell_type": "code",
   "execution_count": 175,
   "outputs": [
    {
     "name": "stdout",
     "output_type": "stream",
     "text": [
      "                                                    0               1  \\\n",
      "0                      COASTA HOMA, LLC \\nTrade Name:  TAAA-NCOF-UF3E   \n",
      "1                    UR SMOKIN DELIVERY \\nTrade Name:  TAAA-VKZB-BSUZ   \n",
      "2   D-LUV TRANSPORT LTD. CO. \\nTrade Name: D-LUVS ...  TAAA-6NR6-KI0Y   \n",
      "3                 CANNALAB LLC \\nTrade Name: CANNALAB  TAAA-CIRX-CDDD   \n",
      "4   SYNCROSCAPE BUSINESS SERVICES \\nTrade Name: SY...  TAAA-XXBF-D15X   \n",
      "..                                                ...             ...   \n",
      "80  PAYCASH GROUP LLC \\nTrade Name: PAYCASH GROUP LLC  TAAA-EKJA-WRLG   \n",
      "81          T3 TRANSPORTATION LLC \\nTrade Name: STSOT  TAAA-IVCU-EKMB   \n",
      "82  TACTICAL TRANSPORTATION LLC \\nTrade Name: TACT...  TAAA-NK1S-4NSJ   \n",
      "83  WATCHMEN SECURITY AND PROTECTIVE SERVICES LLC ...  TAAA-4ORH-ADAN   \n",
      "84        CANNALYTICS LABORATORIES, LLC \\nTrade Name:  TAAA-NMO8-J0VU   \n",
      "\n",
      "                                        2           3            4        5  \\\n",
      "0                      CALAEB25@GMAIL.COM  4057404752          ADA  74820.0   \n",
      "1                    JAJENSEN06@GMAIL.COM  4054416540        ALLEN  74825.0   \n",
      "2                       LUVS420@YAHOO.COM  5804718768        ALTUS  73521.0   \n",
      "3                      PRFULMER@GMAIL.COM  4052505750      ARDMORE  73401.0   \n",
      "4                SYNCROSCAPE788@GMAIL.COM  5802775743      ARDMORE  73401.0   \n",
      "..                                    ...         ...          ...      ...   \n",
      "80                       GARY@MEGAWAT.COM  9186293130        TULSA  74119.0   \n",
      "81                MMARTUCCI@TULSAPAIN.ORG  9186450458        TULSA  74146.0   \n",
      "82  TREVOR@TACTICALTRANSPORTATI\\nONOK.COM  9187296194        TULSA  74112.0   \n",
      "83                   GBATES4909@YAHOO.COM  9184889538        TULSA  74128.0   \n",
      "84               MICAH@PROCANNALYTICS.COM  4053451050  WEATHERFORD  73096.0   \n",
      "\n",
      "           6   7    8 License_type  \n",
      "0   PONTOTOC NaN  NaN  transporter  \n",
      "1   PONTOTOC NaN  NaN  transporter  \n",
      "2    JACKSON NaN  NaN  transporter  \n",
      "3   OKLAHOMA NaN  NaN  transporter  \n",
      "4     CARTER NaN  NaN  transporter  \n",
      "..       ...  ..  ...          ...  \n",
      "80     TULSA NaN  NaN  transporter  \n",
      "81     TULSA NaN  NaN  transporter  \n",
      "82     TULSA NaN  NaN  transporter  \n",
      "83     TULSA NaN  NaN  transporter  \n",
      "84    CUSTER NaN  NaN  transporter  \n",
      "\n",
      "[82 rows x 10 columns]\n"
     ]
    }
   ],
   "source": [
    "# Manipulating transporter20210507.csv\n",
    "transporter = pd.read_csv(\"transporter20210507.csv\").drop(['Unnamed: 0', 'Unnamed: 0.1'],axis=1)\n",
    "transporter['License_type'] = \"transporter\"\n",
    "transporter = transporter[transporter['0'].notnull()]\n",
    "print(transporter)"
   ],
   "metadata": {
    "collapsed": false,
    "pycharm": {
     "name": "#%%\n"
    }
   }
  },
  {
   "cell_type": "code",
   "execution_count": null,
   "outputs": [],
   "source": [
    "transporter_7thColIndex = transporter['7'].notnull()\n",
    "missing_data = transporter[transporter_7thColIndex]\n",
    "# print(missing_data)\n",
    "missing_data.drop('1', inplace=True, axis=1)\n",
    "missing_data.drop('2', inplace=True, axis=1)\n",
    "missing_data.columns=['business', 'license', 'email', 'phone', 'city', 'zip', 'county', 'license_type']\n",
    "missing_data = missing_data.replace('\\n','', regex=True)\n",
    "missing_data['zip'] = missing_data['zip'].astype(\"int64\")\n",
    "data=missing_data['business'].str.split(r'Trade Name:', expand=True)\n",
    "# print(data)\n",
    "missing_data['trade_name'] = data[1]\n",
    "missing_data['business'] = data[0]\n",
    "print(missing_data)\n",
    "# missing_data.to_csv(\"transporter_missing_data.csv\", index=False)"
   ],
   "metadata": {
    "collapsed": false,
    "pycharm": {
     "name": "#%%  Missing Data Check\n"
    }
   }
  },
  {
   "cell_type": "code",
   "execution_count": 179,
   "outputs": [
    {
     "name": "stdout",
     "output_type": "stream",
     "text": [
      "                                          business         license  \\\n",
      "0                                COASTA HOMA, LLC   TAAA-NCOF-UF3E   \n",
      "1                              UR SMOKIN DELIVERY   TAAA-VKZB-BSUZ   \n",
      "2                        D-LUV TRANSPORT LTD. CO.   TAAA-6NR6-KI0Y   \n",
      "3                                    CANNALAB LLC   TAAA-CIRX-CDDD   \n",
      "4                   SYNCROSCAPE BUSINESS SERVICES   TAAA-XXBF-D15X   \n",
      "..                                             ...             ...   \n",
      "80                              PAYCASH GROUP LLC   TAAA-EKJA-WRLG   \n",
      "81                          T3 TRANSPORTATION LLC   TAAA-IVCU-EKMB   \n",
      "82                    TACTICAL TRANSPORTATION LLC   TAAA-NK1S-4NSJ   \n",
      "83  WATCHMEN SECURITY AND PROTECTIVE SERVICES LLC   TAAA-4ORH-ADAN   \n",
      "84                  CANNALYTICS LABORATORIES, LLC   TAAA-NMO8-J0VU   \n",
      "\n",
      "                                  email       phone         city    zip  \\\n",
      "0                    CALAEB25@GMAIL.COM  4057404752          ADA  74820   \n",
      "1                  JAJENSEN06@GMAIL.COM  4054416540        ALLEN  74825   \n",
      "2                     LUVS420@YAHOO.COM  5804718768        ALTUS  73521   \n",
      "3                    PRFULMER@GMAIL.COM  4052505750      ARDMORE  73401   \n",
      "4              SYNCROSCAPE788@GMAIL.COM  5802775743      ARDMORE  73401   \n",
      "..                                  ...         ...          ...    ...   \n",
      "80                     GARY@MEGAWAT.COM  9186293130        TULSA  74119   \n",
      "81              MMARTUCCI@TULSAPAIN.ORG  9186450458        TULSA  74146   \n",
      "82  TREVOR@TACTICALTRANSPORTATIONOK.COM  9187296194        TULSA  74112   \n",
      "83                 GBATES4909@YAHOO.COM  9184889538        TULSA  74128   \n",
      "84             MICAH@PROCANNALYTICS.COM  4053451050  WEATHERFORD  73096   \n",
      "\n",
      "      county license_type                                      trade_name  \n",
      "0   PONTOTOC  transporter                                                  \n",
      "1   PONTOTOC  transporter                                                  \n",
      "2    JACKSON  transporter                       D-LUVS TRANSPORT LTD. CO.  \n",
      "3   OKLAHOMA  transporter                                        CANNALAB  \n",
      "4     CARTER  transporter                   SYNCROSCAPE BUSINESS SERVICES  \n",
      "..       ...          ...                                             ...  \n",
      "80     TULSA  transporter                               PAYCASH GROUP LLC  \n",
      "81     TULSA  transporter                                           STSOT  \n",
      "82     TULSA  transporter                     TACTICAL TRANSPORTATION LLC  \n",
      "83     TULSA  transporter   WATCHMEN SECURITY AND PROTECTIVE SERVICES LLC  \n",
      "84    CUSTER  transporter                                                  \n",
      "\n",
      "[68 rows x 9 columns]\n"
     ]
    }
   ],
   "source": [
    "index_names_transporter = transporter[transporter['7'].notnull()].index\n",
    "transporter.drop(index_names_transporter, inplace=True)\n",
    "transporter.drop('7', inplace=True, axis=1)\n",
    "transporter.drop('8', inplace=True, axis=1)\n",
    "transporter.columns=['business', 'license', 'email', 'phone', 'city', 'zip', 'county', 'license_type']\n",
    "transporter = transporter.replace('\\n','', regex=True)\n",
    "transporter['zip'] = transporter['zip'].astype(\"int64\")\n",
    "data=transporter['business'].str.split(r'Trade Name:', expand=True)\n",
    "# print(data)\n",
    "transporter['trade_name'] = data[1]\n",
    "transporter['business'] = data[0]\n",
    "print(transporter)"
   ],
   "metadata": {
    "collapsed": false,
    "pycharm": {
     "name": "#%% Removing NaN columns and Assigning names to the columns\n"
    }
   }
  },
  {
   "cell_type": "code",
   "execution_count": 180,
   "outputs": [],
   "source": [
    "frame = [transporter, missing_data]\n",
    "transporter = pd.concat(frame)\n",
    "print(transporter)\n",
    "# transporter.to_csv(\"transporter_df.csv\", index=False)"
   ],
   "metadata": {
    "collapsed": false,
    "pycharm": {
     "name": "#%% Merging the datasets\n"
    }
   }
  },
  {
   "cell_type": "code",
   "execution_count": null,
   "outputs": [],
   "source": [],
   "metadata": {
    "collapsed": false,
    "pycharm": {
     "name": "#%%\n"
    }
   }
  },
  {
   "cell_type": "code",
   "execution_count": 187,
   "outputs": [
    {
     "name": "stdout",
     "output_type": "stream",
     "text": [
      "                                                      0               1  \\\n",
      "0     AAA PROCESSING LLC \\nTrade Name: AAA PROCESSIN...  PAAA-7MU6-ZGRF   \n",
      "1     ALL NATURAL SOLUTIONS LLC \\nTrade Name: ALL NA...  PAAA-SBDR-JD2T   \n",
      "2         BDR SOLUTIONS LLC \\nTrade Name: BDR SOLUTIONS  PAAA-4Y3H-CPRI   \n",
      "3         BIG POPPA'S LLC \\nTrade Name: BIG POPPA'S LLC  PAAA-NYLS-DU8H   \n",
      "4     BOGGY CREEK FARMS \\nTrade Name: BOGGY CREEK FARMS  PAAA-VWNV-RB5K   \n",
      "...                                                 ...             ...   \n",
      "1400               SIRIUS PROCESSORS, LLC \\nTrade Name:  PAAA-MEY9-JILW   \n",
      "1401                        CANNAVIBE INC \\nTrade Name:  PAAA-NYNN-O2VD   \n",
      "1402      CENTRAL SCIENTIFIC PROCESS, LLC \\nTrade Name:  PAAA-4YE0-VGFV   \n",
      "1403      HMP ENTERPRISES, LLC \\nTrade Name: HAPPY HOUR  PAAA-4JZ4-X1KB   \n",
      "1404                  KIND VINE FARMS LLC \\nTrade Name:  PAAA-53J5-EMPW   \n",
      "\n",
      "                                     2           3          4        5  \\\n",
      "0             CORTEZCOLEMAN@ICLOUD.COM  5803996215        ADA  74820.0   \n",
      "1                ALLNATURALADA@ATT.NET  5802724041        ADA  74820.0   \n",
      "2     BELINDASLAKEPARADISE@GMAIL.C\\nOM  5803202301        ADA  74820.0   \n",
      "3               BIGPOPPASLLC@YAHOO.COM  5804212323        ADA  74820.0   \n",
      "4                 RUSSLOLLAR@GMAIL.COM  5803990636        ADA  74820.0   \n",
      "...                                ...         ...        ...      ...   \n",
      "1400            INFO@SIRIUSGROWERS.COM  4059966983  WYNNEWOOD  73098.0   \n",
      "1401          MATT@STACYLEGALGROUP.COM  4058167228      YUKON  73099.0   \n",
      "1402   JOSH.THOMAS@THOMASGROWERS\\n.COM  4056152495      YUKON  73099.0   \n",
      "1403           HMPPROCESSING@GMAIL.COM  4057062920      YUKON  73099.0   \n",
      "1404          MATT@STACYLEGALGROUP.COM  4058167532      YUKON  73010.0   \n",
      "\n",
      "             6   7    8 License_type  \n",
      "0     PONTOTOC NaN  NaN    processor  \n",
      "1     PONTOTOC NaN  NaN    processor  \n",
      "2     PONTOTOC NaN  NaN    processor  \n",
      "3     PONTOTOC NaN  NaN    processor  \n",
      "4     PONTOTOC NaN  NaN    processor  \n",
      "...        ...  ..  ...          ...  \n",
      "1400    GARVIN NaN  NaN    processor  \n",
      "1401  CANADIAN NaN  NaN    processor  \n",
      "1402  OKLAHOMA NaN  NaN    processor  \n",
      "1403  CANADIAN NaN  NaN    processor  \n",
      "1404     GRADY NaN  NaN    processor  \n",
      "\n",
      "[1402 rows x 10 columns]\n"
     ]
    }
   ],
   "source": [
    "# Manipulating processor20210507.csv\n",
    "processor = pd.read_csv(\"processor20210507.csv\").drop(['Unnamed: 0', 'Unnamed: 0.1'],axis=1)\n",
    "processor['License_type'] = \"processor\"\n",
    "processor = processor[processor['0'].notnull()]\n",
    "print(processor)\n"
   ],
   "metadata": {
    "collapsed": false,
    "pycharm": {
     "name": "#%%\n"
    }
   }
  },
  {
   "cell_type": "code",
   "execution_count": 188,
   "outputs": [
    {
     "name": "stdout",
     "output_type": "stream",
     "text": [
      "                                        business         license  \\\n",
      "478                  ROYAL CANNABIS COMPANY LLC   PAAA-VH0X-MSTY   \n",
      "479                       COMPLEX EXTRACTS, LLC   PAAA-VKIN-J9HP   \n",
      "480                      NANA'S PROCESSING, LLC   PAAA-QFYY-PYCF   \n",
      "481                                 CANNABIS 31   PAAA-VKKH-3K1N   \n",
      "482                             420 EXTRACT LLC   PAAA-NKWG-YHMU   \n",
      "483                               CALI-PURE LLC   PAAA-NYM7-9NUN   \n",
      "487  CORPORATION ASSET NETWORK ASSOCIATION, LLC   PAAA-V1LV-84X8   \n",
      "488                              CANNATOPIA LLC   PAAA-VKLG-YZO4   \n",
      "489                            30M VENTURES LLC   PAAA-NJPX-DSX2   \n",
      "490                                  ANH WALKER   PAAA-EYB4-AJTP   \n",
      "491                  BELLA VISTA COLLECTIVE LLC   PAAA-JNQT-7FG2   \n",
      "492                             BUD HUT MD INC.   PAAA-4JFV-WFHV   \n",
      "493                     FLUFFYS APOTHECARY INC.   PAAA-4JRY-AGGT   \n",
      "494                              FPC GROUP, LLC   PAAA-4JTU-YSMH   \n",
      "\n",
      "                              email         phone     city    zip     county  \\\n",
      "478  SDAILEY@ROYALCANNABISFARMS.COM  9.188122e+09    KINTA  74552    HASKELL   \n",
      "479            TOMSCHOTTS@GMAIL.COM  9.282343e+09   KONAWA  74849   SEMINOLE   \n",
      "480            LORISTAGGS@YAHOO.COM  9.184248e+09    KREBS  74554  PITTSBURG   \n",
      "481          WEEDSHACK270@GMAIL.COM  9.183180e+09    KREBS  74554  PITTSBURG   \n",
      "482         CHELSIEK_1985@YAHOO.COM  9.184245e+09    KREBS  74554  PITTSBURG   \n",
      "483           RICHHOGFARM@GMAIL.COM  4.059198e+09    LAMAR  74850     HUGHES   \n",
      "487          JLRISMAN@SBCGLOBAL.NET  9.185276e+09  LANGELY  74350      MAYES   \n",
      "488           MLGRAMM@SPEEDYS66.COM  9.187244e+09  LANGLEY  74350      MAYES   \n",
      "489       TEAM@TULSAHOUSEOFFIRE.COM  4.242025e+09  LANGLEY  74350      MAYES   \n",
      "490         INFO@BLOOMSINDUSTRY.COM  5.805833e+09   LAWTON  73505   COMANCHE   \n",
      "491         GATORS4EVER08@YAHOO.COM  5.807043e+09   LAWTON  73501   COMANCHE   \n",
      "492               INFO@BUDHUTMD.COM  4.052139e+09   LAWTON  73501   COMANCHE   \n",
      "493              KLM@FLUFFYISOK.COM  5.802500e+09   LAWTON  73505   COMANCHE   \n",
      "494              JEFF@SEE3FARMS.COM  4.695768e+09   LAWTON  73501   COMANCHE   \n",
      "\n",
      "    license_type                   trade_name  \n",
      "478    processor   ROYAL CANNABIS COMPANY LLC  \n",
      "479    processor                               \n",
      "480    processor       NANA'S PROCESSING, LLC  \n",
      "481    processor                  CANNABIS 31  \n",
      "482    processor                               \n",
      "483    processor                    DAB DADDY  \n",
      "487    processor                MINERVA CANNA  \n",
      "488    processor                   CANNATOPIA  \n",
      "489    processor             30M VENTURES LLC  \n",
      "490    processor              BLOOMS INDUSTRY  \n",
      "491    processor   BELLA VISTA COLLECTIVE LLC  \n",
      "492    processor           BUD HUT PROCESSING  \n",
      "493    processor          FLUFFY'S APOTHECARY  \n",
      "494    processor               VERTICAL VIBEZ  \n"
     ]
    },
    {
     "name": "stderr",
     "output_type": "stream",
     "text": [
      "c:\\users\\gurjar\\pycharmprojects\\pdftocsv\\venv\\lib\\site-packages\\pandas\\core\\frame.py:4308: SettingWithCopyWarning: \n",
      "A value is trying to be set on a copy of a slice from a DataFrame\n",
      "\n",
      "See the caveats in the documentation: https://pandas.pydata.org/pandas-docs/stable/user_guide/indexing.html#returning-a-view-versus-a-copy\n",
      "  return super().drop(\n"
     ]
    }
   ],
   "source": [
    "processor_7thColIndex = processor['7'].notnull()\n",
    "missing_data = processor[processor_7thColIndex]\n",
    "# print(missing_data)\n",
    "missing_data.drop('1', inplace=True, axis=1)\n",
    "missing_data.drop('2', inplace=True, axis=1)\n",
    "# print(missing_data)\n",
    "missing_data.columns=['business', 'license', 'email', 'phone', 'city', 'zip', 'county', 'license_type']\n",
    "missing_data = missing_data.replace('\\n','', regex=True)\n",
    "missing_data['zip'] = missing_data['zip'].astype(\"int64\")\n",
    "data=missing_data['business'].str.split(r'Trade Name:', expand=True)\n",
    "# print(data)\n",
    "missing_data['trade_name'] = data[1]\n",
    "missing_data['business'] = data[0]\n",
    "print(missing_data)\n"
   ],
   "metadata": {
    "collapsed": false,
    "pycharm": {
     "name": "#%%  Missing Data Check\n"
    }
   }
  },
  {
   "cell_type": "code",
   "execution_count": 189,
   "outputs": [
    {
     "name": "stdout",
     "output_type": "stream",
     "text": [
      "                              business         license  \\\n",
      "0                  AAA PROCESSING LLC   PAAA-7MU6-ZGRF   \n",
      "1           ALL NATURAL SOLUTIONS LLC   PAAA-SBDR-JD2T   \n",
      "2                   BDR SOLUTIONS LLC   PAAA-4Y3H-CPRI   \n",
      "3                     BIG POPPA'S LLC   PAAA-NYLS-DU8H   \n",
      "4                   BOGGY CREEK FARMS   PAAA-VWNV-RB5K   \n",
      "...                                ...             ...   \n",
      "1400           SIRIUS PROCESSORS, LLC   PAAA-MEY9-JILW   \n",
      "1401                    CANNAVIBE INC   PAAA-NYNN-O2VD   \n",
      "1402  CENTRAL SCIENTIFIC PROCESS, LLC   PAAA-4YE0-VGFV   \n",
      "1403             HMP ENTERPRISES, LLC   PAAA-4JZ4-X1KB   \n",
      "1404              KIND VINE FARMS LLC   PAAA-53J5-EMPW   \n",
      "\n",
      "                               email       phone       city    zip    county  \\\n",
      "0           CORTEZCOLEMAN@ICLOUD.COM  5803996215        ADA  74820  PONTOTOC   \n",
      "1              ALLNATURALADA@ATT.NET  5802724041        ADA  74820  PONTOTOC   \n",
      "2     BELINDASLAKEPARADISE@GMAIL.COM  5803202301        ADA  74820  PONTOTOC   \n",
      "3             BIGPOPPASLLC@YAHOO.COM  5804212323        ADA  74820  PONTOTOC   \n",
      "4               RUSSLOLLAR@GMAIL.COM  5803990636        ADA  74820  PONTOTOC   \n",
      "...                              ...         ...        ...    ...       ...   \n",
      "1400          INFO@SIRIUSGROWERS.COM  4059966983  WYNNEWOOD  73098    GARVIN   \n",
      "1401        MATT@STACYLEGALGROUP.COM  4058167228      YUKON  73099  CANADIAN   \n",
      "1402   JOSH.THOMAS@THOMASGROWERS.COM  4056152495      YUKON  73099  OKLAHOMA   \n",
      "1403         HMPPROCESSING@GMAIL.COM  4057062920      YUKON  73099  CANADIAN   \n",
      "1404        MATT@STACYLEGALGROUP.COM  4058167532      YUKON  73010     GRADY   \n",
      "\n",
      "     license_type           trade_name  \n",
      "0       processor   AAA PROCESSING LLC  \n",
      "1       processor          ALL NATURAL  \n",
      "2       processor        BDR SOLUTIONS  \n",
      "3       processor      BIG POPPA'S LLC  \n",
      "4       processor    BOGGY CREEK FARMS  \n",
      "...           ...                  ...  \n",
      "1400    processor                       \n",
      "1401    processor                       \n",
      "1402    processor                       \n",
      "1403    processor           HAPPY HOUR  \n",
      "1404    processor                       \n",
      "\n",
      "[1388 rows x 9 columns]\n"
     ]
    }
   ],
   "source": [
    "index_names_processor = processor[processor['7'].notnull()].index\n",
    "processor.drop(index_names_processor, inplace=True)\n",
    "processor.drop('7', inplace=True, axis=1)\n",
    "processor.drop('8', inplace=True, axis=1)\n",
    "processor.columns=['business', 'license', 'email', 'phone', 'city', 'zip', 'county', 'license_type']\n",
    "processor = processor.replace('\\n','', regex=True)\n",
    "processor['zip'] = processor['zip'].astype(\"int64\")\n",
    "data=processor['business'].str.split(r'Trade Name:', expand=True)\n",
    "# print(data)\n",
    "processor['trade_name'] = data[1]\n",
    "processor['business'] = data[0]\n",
    "# print(processor)"
   ],
   "metadata": {
    "collapsed": false,
    "pycharm": {
     "name": "#%% Removing NaN columns and Assigning names to the columns\n"
    }
   }
  },
  {
   "cell_type": "code",
   "execution_count": 195,
   "outputs": [
    {
     "name": "stdout",
     "output_type": "stream",
     "text": [
      "                        business         license  \\\n",
      "0            AAA PROCESSING LLC   PAAA-7MU6-ZGRF   \n",
      "1     ALL NATURAL SOLUTIONS LLC   PAAA-SBDR-JD2T   \n",
      "2             BDR SOLUTIONS LLC   PAAA-4Y3H-CPRI   \n",
      "3               BIG POPPA'S LLC   PAAA-NYLS-DU8H   \n",
      "4             BOGGY CREEK FARMS   PAAA-VWNV-RB5K   \n",
      "..                           ...             ...   \n",
      "490                  ANH WALKER   PAAA-EYB4-AJTP   \n",
      "491  BELLA VISTA COLLECTIVE LLC   PAAA-JNQT-7FG2   \n",
      "492             BUD HUT MD INC.   PAAA-4JFV-WFHV   \n",
      "493     FLUFFYS APOTHECARY INC.   PAAA-4JRY-AGGT   \n",
      "494              FPC GROUP, LLC   PAAA-4JTU-YSMH   \n",
      "\n",
      "                              email         phone    city    zip    county  \\\n",
      "0          CORTEZCOLEMAN@ICLOUD.COM    5803996215     ADA  74820  PONTOTOC   \n",
      "1             ALLNATURALADA@ATT.NET    5802724041     ADA  74820  PONTOTOC   \n",
      "2    BELINDASLAKEPARADISE@GMAIL.COM    5803202301     ADA  74820  PONTOTOC   \n",
      "3            BIGPOPPASLLC@YAHOO.COM    5804212323     ADA  74820  PONTOTOC   \n",
      "4              RUSSLOLLAR@GMAIL.COM    5803990636     ADA  74820  PONTOTOC   \n",
      "..                              ...           ...     ...    ...       ...   \n",
      "490         INFO@BLOOMSINDUSTRY.COM  5805833035.0  LAWTON  73505  COMANCHE   \n",
      "491         GATORS4EVER08@YAHOO.COM  5807042797.0  LAWTON  73501  COMANCHE   \n",
      "492               INFO@BUDHUTMD.COM  4052138801.0  LAWTON  73501  COMANCHE   \n",
      "493              KLM@FLUFFYISOK.COM  5802500322.0  LAWTON  73505  COMANCHE   \n",
      "494              JEFF@SEE3FARMS.COM  4695768207.0  LAWTON  73501  COMANCHE   \n",
      "\n",
      "    license_type                   trade_name  \n",
      "0      processor           AAA PROCESSING LLC  \n",
      "1      processor                  ALL NATURAL  \n",
      "2      processor                BDR SOLUTIONS  \n",
      "3      processor              BIG POPPA'S LLC  \n",
      "4      processor            BOGGY CREEK FARMS  \n",
      "..           ...                          ...  \n",
      "490    processor              BLOOMS INDUSTRY  \n",
      "491    processor   BELLA VISTA COLLECTIVE LLC  \n",
      "492    processor           BUD HUT PROCESSING  \n",
      "493    processor          FLUFFY'S APOTHECARY  \n",
      "494    processor               VERTICAL VIBEZ  \n",
      "\n",
      "[1430 rows x 9 columns]\n"
     ]
    }
   ],
   "source": [
    "frame = [processor, missing_data]\n",
    "processor = pd.concat(frame)\n",
    "print(processor)\n",
    "# processor.to_csv(\"processor_df.csv\", index=False)\n"
   ],
   "metadata": {
    "collapsed": false,
    "pycharm": {
     "name": "#%% Merging the datasets\n"
    }
   }
  },
  {
   "cell_type": "code",
   "execution_count": 205,
   "outputs": [],
   "source": [
    "# Manipulating laboratory20210507.csv\n",
    "laboratory = pd.read_csv(\"laboratory20210507.csv\").drop(['Unnamed: 0', 'Unnamed: 0.1'],axis=1)\n",
    "laboratory['License_type'] = \"laboratory\"\n",
    "laboratory = laboratory[laboratory['0'].notnull()]\n",
    "# print(laboratory)"
   ],
   "metadata": {
    "collapsed": false,
    "pycharm": {
     "name": "#%%\n"
    }
   }
  },
  {
   "cell_type": "code",
   "execution_count": 206,
   "outputs": [
    {
     "name": "stdout",
     "output_type": "stream",
     "text": [
      "                                  business         license  \\\n",
      "0                       ABRAXAS LABS, LLC   LAAA-MOXZ-FQ1G   \n",
      "1               BASELINE LABORATORIES LLC   LAAA-4KTI-YEVJ   \n",
      "2                     BUD'S TESTING L.L.C   LAAA-VYI5-JUJK   \n",
      "3                   QUALITY CANNABIS, LLC   LAAA-NY91-LPUX   \n",
      "4         EXPRESS TOXICOLOGY SERVICES LLC   LAAA-E1LK-2BLG   \n",
      "5                  HAVARD INDUSTRIES, LLC   LAAA-8SPC-5FH4   \n",
      "6             TJB RESTRICTED HOLDINGS LLC   LAAA-EKZ6-UNEB   \n",
      "7                      405 ANALYTICAL LLC   LAAA-NYWH-5XOE   \n",
      "8                              RHINO LABS   LAAA-NYJX-RQRM   \n",
      "9        ANALYTICAL EDGE DISCOVERIES, LLC   LAAA-HHN8-MXQQ   \n",
      "10            SCISSORTAIL LABORATORY, LLC   LAAA-NKSL-JY3L   \n",
      "11     INTEGRITY TESTING LABORATORIES LLC   LAAA-SSUC-08SY   \n",
      "12                   CANNABIS TESTING LLC   LAAA-4YOC-PGXU   \n",
      "13                         HIGHGRADE LABS   LAAA-NKSE-J8CM   \n",
      "14                           PURELABS-OKC   LAAA-NJR1-YZAD   \n",
      "15                        DELTA9 LABS LLC   LAAA-4KCW-FBED   \n",
      "16                    HIGHER TESTING, LLC   LAAA-VK6A-DPMO   \n",
      "17  ELITE ELEMENT TESTING LABORATORY, LLC   LAAA-NJT2-DMOG   \n",
      "18            GREEN COUNTRY TESTING, INC.   LAAA-AYUG-T2AU   \n",
      "19         OK COMPLIANCE TESTING LAB, LLC   LAAA-N1FX-P5VY   \n",
      "20                         T3 TESTING LLC   LAAA-A0B5-KFMY   \n",
      "21          CANNALYTICS LABORATORIES, LLC   LAAA-4YTM-SXWD   \n",
      "\n",
      "                                    email       phone           city    zip  \\\n",
      "0                DRVADIM@ABRAXAS-LABS.COM  9189245164   BROKEN ARROW  74012   \n",
      "1               BMOSLEY@BASELINE-LABS.COM  4053902522        CHOCTAW  73020   \n",
      "2                 BRANDON@BUDSTESTING.COM  5807862173         DUNCAN  73533   \n",
      "3                 WEBBCRYSTAL77@YAHOO.COM  4054715367         EDMOND  73003   \n",
      "4      INFO@EXPRESSTOXICOLOGYSERVICES.COM  4052165788         EDMOND  73013   \n",
      "5                  JHAVARD@PROTONMAIL.COM  4058880961         EDMOND  73034   \n",
      "6      TONY.BRIXEY@GENESISTESTINGLABS.COM  9187913460          GROVE  74344   \n",
      "7            laboratory@405analytical.com  4055485734   MIDWEST CITY  73110   \n",
      "8                    RYAN@RHINOLABSOK.COM  4054657676         NORMAN  73069   \n",
      "9                   ROBERT@KAYCHALABS.COM  4053703776  OKLAHOMA CITY  73105   \n",
      "10               INFO@SCISSORTAILLABS.COM  4057880247  OKLAHOMA CITY  73107   \n",
      "11                  CHARLESBOGIEMD@ME.COM  4055943773  OKLAHOMA CITY  73112   \n",
      "12             RBRITTEN@CANNABESTLABS.COM  4054882400  OKLAHOMA CITY  73118   \n",
      "13                  LAB@HIGHGRADELABS.COM  4057248444  OKLAHOMA CITY  73129   \n",
      "14                 HPURDY@PURELABSOKC.COM  4058856411  OKLAHOMA CITY  73139   \n",
      "15                 INFO@DELTA9LABSLLC.COM  5803049392     PONCA CITY  74601   \n",
      "16                 INFO@HIGHERTESTING.COM  9185718757         ROLAND  74954   \n",
      "17  KANDICE.FAULKENBERRY@OK.STEEPHILL.COM  9183157892       SALLISAW  74955   \n",
      "18         BRIAND@GREENCOUNTRYTESTING.COM  9188289977          TULSA  74145   \n",
      "19                    EPHILLIPS@OKCTL.COM  9188727015          TULSA  74146   \n",
      "20              SCAMPBELL@STSOKLAHOMA.COM  9186450458          TULSA  74146   \n",
      "21                 WOK@PROCANNALYTICS.COM  5803028196    WEATHERFORD  73096   \n",
      "\n",
      "       county license_type                                  trade_name  \n",
      "0       TULSA   laboratory                                ABRAXAS LABS  \n",
      "1    OKLAHOMA   laboratory                   BASELINE LABORATORIES LLC  \n",
      "2    STEPHENS   laboratory   BUD'S TESTING L.L.C ANALYTICAL LABORATORY  \n",
      "3    OKLAHOMA   laboratory                                              \n",
      "4    OKLAHOMA   laboratory                                              \n",
      "5    OKLAHOMA   laboratory                                              \n",
      "6    DELAWARE   laboratory                GENESIS TESTING LABORATORIES  \n",
      "7    OKLAHOMA   laboratory                                              \n",
      "8   CLEVELAND   laboratory                                              \n",
      "9    OKLAHOMA   laboratory                                 KAYCHA LABS  \n",
      "10   OKLAHOMA   laboratory                                              \n",
      "11   OKLAHOMA   laboratory                                              \n",
      "12   OKLAHOMA   laboratory                              CANNABEST LABS  \n",
      "13   OKLAHOMA   laboratory                                              \n",
      "14   OKLAHOMA   laboratory                                    PURELABS  \n",
      "15        KAY   laboratory                                              \n",
      "16   SEQUOYAH   laboratory                         HIGHER TESTING, LLC  \n",
      "17   SEQUOYAH   laboratory                         STEEP HILL OKLAHOMA  \n",
      "18      TULSA   laboratory                                              \n",
      "19      TULSA   laboratory                                       OKCTL  \n",
      "20      TULSA   laboratory        SPECIALTY TESTING SOLUTIONS OKLAHOMA  \n",
      "21     CUSTER   laboratory               CANNALYTICS LABORATORIES, LLC  \n"
     ]
    }
   ],
   "source": [
    "laboratory.columns=['business', 'license', 'email', 'phone', 'city', 'zip', 'county', 'license_type']\n",
    "laboratory = laboratory.replace('\\n','', regex=True)\n",
    "laboratory['zip'] = laboratory['zip'].astype(\"int64\")\n",
    "data=laboratory['business'].str.split(r'Trade Name:', expand=True)\n",
    "# print(data)\n",
    "laboratory['trade_name'] = data[1]\n",
    "laboratory['business'] = data[0]\n",
    "print(laboratory)\n",
    "laboratory.to_csv(\"laboratory_df.csv\", index=False)\n"
   ],
   "metadata": {
    "collapsed": false,
    "pycharm": {
     "name": "#%% Assigning names to the laboratory data\n"
    }
   }
  },
  {
   "cell_type": "code",
   "execution_count": 207,
   "outputs": [
    {
     "name": "stdout",
     "output_type": "stream",
     "text": [
      "                                  business         license  \\\n",
      "0      CORNERSTONE ENVIRONMENTAL SERVICES   WAAA-2XVW-XVWM   \n",
      "1              STEALTH BUSINESS SOLUTIONS   WAAA-41VQ-NN3L   \n",
      "2                       MAVEN ENERGY, LLC   WAAA-B91V-AX5C   \n",
      "3   OKLAHOMA GREEN TO GOLD RECYCLING LLC.   WAAA-WIPF-M8OX   \n",
      "7     SOONER MEDICAL WASTE MANAGEMENT LLC   WAAA-4YCA-4VEU   \n",
      "8              BURN IT THE LEGAL WAY, LLC   WAAA-YVPD-PF6I   \n",
      "9                        AJP DISPOSAL LLC   WAAA-VJ4M-N4ZT   \n",
      "10                     ENSO SOLUTIONS LLC   WAAA-NKR2-CRLO   \n",
      "11                   GREEN LEAF WASTE LLC   WAAA-VYYU-I4KQ   \n",
      "\n",
      "                                 email       phone           city    zip  \\\n",
      "0             TYLER.SMITH@GOTILLEY.COM  5807993774         DUNCAN  73533   \n",
      "1   STEALTHBUSINESSSOLUTIONS@GMAIL.COM  4056405633         EDMOND  73003   \n",
      "2      EGNITEWASTEMANAGEMENT@GMAIL.COM  4053148757        GUTHRIE  73044   \n",
      "3               DAAW8272@SBCGLOBAL.NET  4796510950         MEEKER  74855   \n",
      "7        ELAINE@SOONERMEDICALWASTE.COM  4799261901        MULDROW  74948   \n",
      "8              BURNITLEGALLY@GMAIL.COM  4053179998  OKLAHOMA CITY  73114   \n",
      "9             AJPDISPOSALLLC@GMAIL.COM  4054298360  OKLAHOMA CITY  73106   \n",
      "10           INFO@ENSOSOLUTIONSLLC.COM  4054939392  OKLAHOMA CITY  73129   \n",
      "11             NICK@FIRSTCOMPANIES.NET  4058485524  OKLAHOMA CITY  73109   \n",
      "\n",
      "          county    license_type                              trade_name  \n",
      "0       STEPHENS  waste_disposal      CORNERSTONE ENVIRONMENTAL SERVICES  \n",
      "1       OKLAHOMA  waste_disposal                         STEALTH RECYCLE  \n",
      "2          LOGAN  waste_disposal                 EGNITE WASTE MANAGEMENT  \n",
      "3   POTTAWATOMIE  waste_disposal   OKLAHOMA GREEN TO GOLD RECYCLING LLC.  \n",
      "7       SEQUOYAH  waste_disposal    SOONER MEDICAL WASTE MANAGEMENT, LLC  \n",
      "8       OKLAHOMA  waste_disposal              BURN IT THE LEGAL WAY, LLC  \n",
      "9       OKLAHOMA  waste_disposal              CANNABIS RECYCLING COMPANY  \n",
      "10      OKLAHOMA  waste_disposal                      ENSO SOLUTIONS LLC  \n",
      "11      OKLAHOMA  waste_disposal                        GREEN LEAF WASTE  \n"
     ]
    }
   ],
   "source": [
    "# Manipulating waste_disposal20210507.csv\n",
    "waste_disposal = pd.read_csv(\"waste_disposal20210507.csv\").drop(['Unnamed: 0', 'Unnamed: 0.1'],axis=1)\n",
    "waste_disposal['License_type'] = \"waste_disposal\"\n",
    "waste_disposal = waste_disposal[waste_disposal['0'].notnull()]\n",
    "waste_disposal.drop('1', inplace=True, axis=1)\n",
    "waste_disposal.drop('2', inplace=True, axis=1)\n",
    "waste_disposal.columns=['business', 'license', 'email', 'phone', 'city', 'zip', 'county', 'license_type']\n",
    "waste_disposal = waste_disposal.replace('\\n','', regex=True)\n",
    "waste_disposal['zip'] = waste_disposal['zip'].astype(\"int64\")\n",
    "waste_disposal['phone'] = waste_disposal['phone'].astype(\"int64\")\n",
    "data=waste_disposal['business'].str.split(r'Trade Name:', expand=True)\n",
    "# print(data)\n",
    "waste_disposal['trade_name'] = data[1]\n",
    "waste_disposal['business'] = data[0]\n",
    "print(waste_disposal)\n",
    "# waste_disposal.to_csv(\"waste_disposal.csv\", index=False)"
   ],
   "metadata": {
    "collapsed": false,
    "pycharm": {
     "name": "#%%\n"
    }
   }
  },
  {
   "cell_type": "code",
   "execution_count": 209,
   "outputs": [
    {
     "name": "stdout",
     "output_type": "stream",
     "text": [
      "                                   business         license  \\\n",
      "0       CORNERSTONE ENVIRONMENTAL SERVICES   WAAA-2XVW-XVWM   \n",
      "1               STEALTH BUSINESS SOLUTIONS   WAAA-41VQ-NN3L   \n",
      "2                        MAVEN ENERGY, LLC   WAAA-B91V-AX5C   \n",
      "3    OKLAHOMA GREEN TO GOLD RECYCLING LLC.   WAAA-WIPF-M8OX   \n",
      "7      SOONER MEDICAL WASTE MANAGEMENT LLC   WAAA-4YCA-4VEU   \n",
      "..                                      ...             ...   \n",
      "490                             ANH WALKER   PAAA-EYB4-AJTP   \n",
      "491             BELLA VISTA COLLECTIVE LLC   PAAA-JNQT-7FG2   \n",
      "492                        BUD HUT MD INC.   PAAA-4JFV-WFHV   \n",
      "493                FLUFFYS APOTHECARY INC.   PAAA-4JRY-AGGT   \n",
      "494                         FPC GROUP, LLC   PAAA-4JTU-YSMH   \n",
      "\n",
      "                                  email         phone     city    zip  \\\n",
      "0              TYLER.SMITH@GOTILLEY.COM    5807993774   DUNCAN  73533   \n",
      "1    STEALTHBUSINESSSOLUTIONS@GMAIL.COM    4056405633   EDMOND  73003   \n",
      "2       EGNITEWASTEMANAGEMENT@GMAIL.COM    4053148757  GUTHRIE  73044   \n",
      "3                DAAW8272@SBCGLOBAL.NET    4796510950   MEEKER  74855   \n",
      "7         ELAINE@SOONERMEDICALWASTE.COM    4799261901  MULDROW  74948   \n",
      "..                                  ...           ...      ...    ...   \n",
      "490             INFO@BLOOMSINDUSTRY.COM  5805833035.0   LAWTON  73505   \n",
      "491             GATORS4EVER08@YAHOO.COM  5807042797.0   LAWTON  73501   \n",
      "492                   INFO@BUDHUTMD.COM  4052138801.0   LAWTON  73501   \n",
      "493                  KLM@FLUFFYISOK.COM  5802500322.0   LAWTON  73505   \n",
      "494                  JEFF@SEE3FARMS.COM  4695768207.0   LAWTON  73501   \n",
      "\n",
      "           county    license_type                              trade_name  \n",
      "0        STEPHENS  waste_disposal      CORNERSTONE ENVIRONMENTAL SERVICES  \n",
      "1        OKLAHOMA  waste_disposal                         STEALTH RECYCLE  \n",
      "2           LOGAN  waste_disposal                 EGNITE WASTE MANAGEMENT  \n",
      "3    POTTAWATOMIE  waste_disposal   OKLAHOMA GREEN TO GOLD RECYCLING LLC.  \n",
      "7        SEQUOYAH  waste_disposal    SOONER MEDICAL WASTE MANAGEMENT, LLC  \n",
      "..            ...             ...                                     ...  \n",
      "490      COMANCHE       processor                         BLOOMS INDUSTRY  \n",
      "491      COMANCHE       processor              BELLA VISTA COLLECTIVE LLC  \n",
      "492      COMANCHE       processor                      BUD HUT PROCESSING  \n",
      "493      COMANCHE       processor                     FLUFFY'S APOTHECARY  \n",
      "494      COMANCHE       processor                          VERTICAL VIBEZ  \n",
      "\n",
      "[12636 rows x 9 columns]\n"
     ]
    }
   ],
   "source": [
    "## UNCOMMENT the following code to have one combined file of all the liceses.\n",
    "## To combine all licenses data into one combined csv\n",
    "# frame = [waste_disposal, laboratory, dispensaries, transporter, growers, processor]\n",
    "# result = pd.concat(frame)\n",
    "# print(result)\n",
    "# result.to_csv(\"combined_data.csv\", index=False)"
   ],
   "metadata": {
    "collapsed": false,
    "pycharm": {
     "name": "#%%\n"
    }
   }
  }
 ],
 "metadata": {
  "kernelspec": {
   "display_name": "Python 3",
   "language": "python",
   "name": "python3"
  },
  "language_info": {
   "codemirror_mode": {
    "name": "ipython",
    "version": 2
   },
   "file_extension": ".py",
   "mimetype": "text/x-python",
   "name": "python",
   "nbconvert_exporter": "python",
   "pygments_lexer": "ipython2",
   "version": "2.7.6"
  }
 },
 "nbformat": 4,
 "nbformat_minor": 0
}