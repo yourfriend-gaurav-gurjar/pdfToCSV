{
 "cells": [
  {
   "cell_type": "code",
   "execution_count": 4,
   "metadata": {
    "collapsed": true
   },
   "outputs": [],
   "source": [
    "import pandas as pd\n",
    "import glob"
   ]
  },
  {
   "cell_type": "code",
   "execution_count": 5,
   "outputs": [],
   "source": [
    "extension = 'csv'\n",
    "all_filenames = [i for i in glob.glob('*.{}'.format(extension))]\n",
    "license_type = \"license_type\""
   ],
   "metadata": {
    "collapsed": false,
    "pycharm": {
     "name": "#%%\n"
    }
   }
  },
  {
   "cell_type": "code",
   "execution_count": 6,
   "outputs": [
    {
     "name": "stdout",
     "output_type": "stream",
     "text": [
      "                                  business         license  \\\n",
      "0      CORNERSTONE ENVIRONMENTAL SERVICES   WAAA-2XVW-XVWM   \n",
      "1              STEALTH BUSINESS SOLUTIONS   WAAA-41VQ-NN3L   \n",
      "2                       MAVEN ENERGY, LLC   WAAA-B91V-AX5C   \n",
      "3   OKLAHOMA GREEN TO GOLD RECYCLING LLC.   WAAA-WIPF-M8OX   \n",
      "7     SOONER MEDICAL WASTE MANAGEMENT LLC   WAAA-4YCA-4VEU   \n",
      "8              BURN IT THE LEGAL WAY, LLC   WAAA-YVPD-PF6I   \n",
      "9                        AJP DISPOSAL LLC   WAAA-VJ4M-N4ZT   \n",
      "10                     ENSO SOLUTIONS LLC   WAAA-NKR2-CRLO   \n",
      "11                   GREEN LEAF WASTE LLC   WAAA-VYYU-I4KQ   \n",
      "\n",
      "                                 email       phone           city    zip  \\\n",
      "0             TYLER.SMITH@GOTILLEY.COM  5807993774         DUNCAN  73533   \n",
      "1   STEALTHBUSINESSSOLUTIONS@GMAIL.COM  4056405633         EDMOND  73003   \n",
      "2      EGNITEWASTEMANAGEMENT@GMAIL.COM  4053148757        GUTHRIE  73044   \n",
      "3               DAAW8272@SBCGLOBAL.NET  4796510950         MEEKER  74855   \n",
      "7        ELAINE@SOONERMEDICALWASTE.COM  4799261901        MULDROW  74948   \n",
      "8              BURNITLEGALLY@GMAIL.COM  4053179998  OKLAHOMA CITY  73114   \n",
      "9             AJPDISPOSALLLC@GMAIL.COM  4054298360  OKLAHOMA CITY  73106   \n",
      "10           INFO@ENSOSOLUTIONSLLC.COM  4054939392  OKLAHOMA CITY  73129   \n",
      "11             NICK@FIRSTCOMPANIES.NET  4058485524  OKLAHOMA CITY  73109   \n",
      "\n",
      "          county    license_type                              trade_name  \n",
      "0       STEPHENS  waste_disposal      CORNERSTONE ENVIRONMENTAL SERVICES  \n",
      "1       OKLAHOMA  waste_disposal                         STEALTH RECYCLE  \n",
      "2          LOGAN  waste_disposal                 EGNITE WASTE MANAGEMENT  \n",
      "3   POTTAWATOMIE  waste_disposal   OKLAHOMA GREEN TO GOLD RECYCLING LLC.  \n",
      "7       SEQUOYAH  waste_disposal    SOONER MEDICAL WASTE MANAGEMENT, LLC  \n",
      "8       OKLAHOMA  waste_disposal              BURN IT THE LEGAL WAY, LLC  \n",
      "9       OKLAHOMA  waste_disposal              CANNABIS RECYCLING COMPANY  \n",
      "10      OKLAHOMA  waste_disposal                      ENSO SOLUTIONS LLC  \n",
      "11      OKLAHOMA  waste_disposal                        GREEN LEAF WASTE  \n"
     ]
    }
   ],
   "source": [
    "# Manipulating waste_disposal20210507.csv\n",
    "waste_disposal = pd.read_csv(\"waste_disposal20210507.csv\").drop(['Unnamed: 0', 'Unnamed: 0.1'],axis=1)\n",
    "waste_disposal['License_type'] = \"waste_disposal\"\n",
    "waste_disposal = waste_disposal[waste_disposal['0'].notnull()]\n",
    "waste_disposal.drop('1', inplace=True, axis=1)\n",
    "waste_disposal.drop('2', inplace=True, axis=1)\n",
    "waste_disposal.columns=['business', 'license', 'email', 'phone', 'city', 'zip', 'county', 'license_type']\n",
    "waste_disposal = waste_disposal.replace('\\n','', regex=True)\n",
    "waste_disposal['zip'] = waste_disposal['zip'].astype(\"int64\")\n",
    "waste_disposal['phone'] = waste_disposal['phone'].astype(\"int64\")\n",
    "data=waste_disposal['business'].str.split(r'Trade Name:', expand=True)\n",
    "# print(data)\n",
    "waste_disposal['trade_name'] = data[1]\n",
    "waste_disposal['business'] = data[0]\n",
    "print(waste_disposal)\n",
    "# waste_disposal.to_csv(\"waste_disposal.csv\", index=False)\n",
    "\n",
    "# # The number of offices of the under the same business name\n",
    "#waste_disposal.groupby('business').size()"
   ],
   "metadata": {
    "collapsed": false,
    "pycharm": {
     "name": "#%%\n"
    }
   }
  },
  {
   "cell_type": "code",
   "execution_count": 51,
   "outputs": [
    {
     "ename": "ValueError",
     "evalue": "The truth value of a Series is ambiguous. Use a.empty, a.bool(), a.item(), a.any() or a.all().",
     "output_type": "error",
     "traceback": [
      "\u001B[1;31m---------------------------------------------------------------------------\u001B[0m",
      "\u001B[1;31mValueError\u001B[0m                                Traceback (most recent call last)",
      "\u001B[1;32m<ipython-input-51-7306e76d8f6a>\u001B[0m in \u001B[0;36m<module>\u001B[1;34m\u001B[0m\n\u001B[0;32m     17\u001B[0m \u001B[1;33m\u001B[0m\u001B[0m\n\u001B[0;32m     18\u001B[0m \u001B[1;31m# recovering data\u001B[0m\u001B[1;33m\u001B[0m\u001B[1;33m\u001B[0m\u001B[1;33m\u001B[0m\u001B[0m\n\u001B[1;32m---> 19\u001B[1;33m \u001B[1;32mif\u001B[0m \u001B[0mdispensaries\u001B[0m\u001B[1;33m[\u001B[0m\u001B[1;34m'license'\u001B[0m\u001B[1;33m]\u001B[0m \u001B[1;33m==\u001B[0m \u001B[1;34m\"\"\u001B[0m\u001B[1;33m:\u001B[0m\u001B[1;33m\u001B[0m\u001B[1;33m\u001B[0m\u001B[0m\n\u001B[0m\u001B[0;32m     20\u001B[0m     \u001B[0mdf\u001B[0m \u001B[1;33m=\u001B[0m \u001B[0mpd\u001B[0m\u001B[1;33m.\u001B[0m\u001B[0mread_csv\u001B[0m\u001B[1;33m(\u001B[0m\u001B[1;34m\"dispensaries20210507.csv\"\u001B[0m\u001B[1;33m)\u001B[0m\u001B[1;33m.\u001B[0m\u001B[0mdrop\u001B[0m\u001B[1;33m(\u001B[0m\u001B[1;33m[\u001B[0m\u001B[1;34m'Unnamed: 0'\u001B[0m\u001B[1;33m,\u001B[0m \u001B[1;34m'Unnamed: 0.1'\u001B[0m\u001B[1;33m]\u001B[0m\u001B[1;33m,\u001B[0m\u001B[0maxis\u001B[0m\u001B[1;33m=\u001B[0m\u001B[1;36m1\u001B[0m\u001B[1;33m)\u001B[0m\u001B[1;33m\u001B[0m\u001B[1;33m\u001B[0m\u001B[0m\n\u001B[0;32m     21\u001B[0m     \u001B[0mprint\u001B[0m\u001B[1;33m(\u001B[0m\u001B[0mdispensaries\u001B[0m\u001B[1;33m)\u001B[0m\u001B[1;33m\u001B[0m\u001B[1;33m\u001B[0m\u001B[0m\n",
      "\u001B[1;32mc:\\users\\gurjar\\pycharmprojects\\pdftocsv\\venv\\lib\\site-packages\\pandas\\core\\generic.py\u001B[0m in \u001B[0;36m__nonzero__\u001B[1;34m(self)\u001B[0m\n\u001B[0;32m   1440\u001B[0m     \u001B[1;33m@\u001B[0m\u001B[0mfinal\u001B[0m\u001B[1;33m\u001B[0m\u001B[1;33m\u001B[0m\u001B[0m\n\u001B[0;32m   1441\u001B[0m     \u001B[1;32mdef\u001B[0m \u001B[0m__nonzero__\u001B[0m\u001B[1;33m(\u001B[0m\u001B[0mself\u001B[0m\u001B[1;33m)\u001B[0m\u001B[1;33m:\u001B[0m\u001B[1;33m\u001B[0m\u001B[1;33m\u001B[0m\u001B[0m\n\u001B[1;32m-> 1442\u001B[1;33m         raise ValueError(\n\u001B[0m\u001B[0;32m   1443\u001B[0m             \u001B[1;34mf\"The truth value of a {type(self).__name__} is ambiguous. \"\u001B[0m\u001B[1;33m\u001B[0m\u001B[1;33m\u001B[0m\u001B[0m\n\u001B[0;32m   1444\u001B[0m             \u001B[1;34m\"Use a.empty, a.bool(), a.item(), a.any() or a.all().\"\u001B[0m\u001B[1;33m\u001B[0m\u001B[1;33m\u001B[0m\u001B[0m\n",
      "\u001B[1;31mValueError\u001B[0m: The truth value of a Series is ambiguous. Use a.empty, a.bool(), a.item(), a.any() or a.all()."
     ]
    }
   ],
   "source": [
    "# Manipulating dispensaries20210507.csv\n",
    "dispensaries = pd.read_csv(\"dispensaries20210507.csv\").drop(['Unnamed: 0', 'Unnamed: 0.1'],axis=1)\n",
    "dispensaries['License_type'] = \"dispensaries\"\n",
    "dispensaries = dispensaries[dispensaries['0'].notnull()]\n",
    "# print(dispensaries)\n",
    "dispensaries.drop('7', inplace=True, axis=1)\n",
    "dispensaries.drop('8', inplace=True, axis=1)\n",
    "dispensaries.columns=['business', 'license', 'email', 'phone', 'city', 'zip', 'county', 'license_type']\n",
    "dispensaries = dispensaries.replace('\\n','', regex=True)\n",
    "dispensaries['zip'] = dispensaries['zip'].astype(\"int64\")\n",
    "data=dispensaries['business'].str.split(r'Trade Name:', expand=True)\n",
    "# print(data)\n",
    "dispensaries['trade_name'] = data[1]\n",
    "dispensaries['business'] = data[0]\n",
    "# print(dispensaries)\n",
    "# dispensaries.to_csv(\"dispensaries.csv\", index=False)"
   ],
   "metadata": {
    "collapsed": false,
    "pycharm": {
     "name": "#%%\n"
    }
   }
  },
  {
   "cell_type": "code",
   "execution_count": 6,
   "outputs": [
    {
     "name": "stdout",
     "output_type": "stream",
     "text": [
      "                         business         license  \\\n",
      "0                  CALYX ORGANIX   GAAA-EKEC-HK8N   \n",
      "1           GATORJACKS RANCH LLC   GAAA-HQLJ-7DMZ   \n",
      "2                 4H PHARMS, LLC   GAAA-SPNU-6L9I   \n",
      "3          7 LEAF SOLUTIONS, LLC   GAAA-EYBQ-7UFS   \n",
      "4          7 LEAF SOLUTIONS, LLC   GAAA-4JBJ-BTWC   \n",
      "...                           ...             ...   \n",
      "7552        BEEGREEN ACRES, INC.   GAAA-4YGQ-ABED   \n",
      "7553        DOS OKIES FARMS, LLC   GAAA-EYCH-C8IW   \n",
      "7554   GREEN TREASSURE FARM, LLC   GAAA-SFQG-MET7   \n",
      "7555  HUSTLE AND GROW FARMS, LLC   GAAA-IDW3-XPCH   \n",
      "7556         KEYSTONE FARMS, LLC   GAAA-NKV3-Y9DY   \n",
      "\n",
      "                            email       phone       city    zip    county  \\\n",
      "0            MJBING78@HOTMAIL.COM  2146204308    ACHILLE  74720     BRYAN   \n",
      "1            SKPATT0582@YAHOO.COM  5809205074    ACHILLE  74720     BRYAN   \n",
      "2             KIMBER@4HPHARMS.COM  5803203062        ADA  74820  PONTOTOC   \n",
      "3        7LEAFSOKLAHOMA@GMAIL.COM  2097693036        ADA  74820  PONTOTOC   \n",
      "4        7LEAFSOKLAHOMA@GMAIL.COM  2097771037        ADA  74820  PONTOTOC   \n",
      "...                           ...         ...        ...    ...       ...   \n",
      "7552   BEEGREENACRESINC@GMAIL.COM  9188141682  CLEVELAND  74020    PAWNEE   \n",
      "7553  INFO@HEALINGSOLUTIONSOK.COM  3038808910  CLEVELAND  74020    PAWNEE   \n",
      "7554     ALEXISDANIROLO@GMAIL.COM  9188457602  CLEVELAND  74020    PAWNEE   \n",
      "7555        WENDY.AGUIRRE@ATT.NET  9188557216  CLEVELAND  74020    PAWNEE   \n",
      "7556        TAMMYSFLYNN@GMAIL.COM  9189398215  CLEVELAND  74020    PAWNEE   \n",
      "\n",
      "     license_type                    trade_name  \n",
      "0         growers                 CALYX ORGANIX  \n",
      "1         growers          GATORJACKS RANCH LLC  \n",
      "2         growers                                \n",
      "3         growers         7 LEAF SOLUTIONS, LLC  \n",
      "4         growers         7 LEAF SOLUTIONS, LLC  \n",
      "...           ...                           ...  \n",
      "7552      growers          BEEGREEN ACRES, INC.  \n",
      "7553      growers               DOS OKIES FARMS  \n",
      "7554      growers                                \n",
      "7555      growers   HUSTLE AND GROW CANNABIS CO  \n",
      "7556      growers           KEYSTONE FARMS, LLC  \n",
      "\n",
      "[7551 rows x 9 columns]\n"
     ]
    }
   ],
   "source": [
    "# Manipulating growers20210507.csv\n",
    "growers = pd.read_csv(\"growers20210507.csv\").drop(['Unnamed: 0', 'Unnamed: 0.1'],axis=1)\n",
    "growers['License_type'] = \"growers\"\n",
    "growers = growers[growers['0'].notnull()]\n",
    "growers.drop('7', inplace=True, axis=1)\n",
    "growers.drop('8', inplace=True, axis=1)\n",
    "growers.columns=['business', 'license', 'email', 'phone', 'city', 'zip', 'county', 'license_type']\n",
    "growers = growers.replace('\\n','', regex=True)\n",
    "growers['zip'] = growers['zip'].astype(\"int64\")\n",
    "data=growers['business'].str.split(r'Trade Name:', expand=True)\n",
    "# print(data)\n",
    "growers['trade_name'] = data[1]\n",
    "growers['business'] = data[0]\n",
    "print(growers)\n",
    "# growers.to_csv(\"growers.csv\", index=False)"
   ],
   "metadata": {
    "collapsed": false,
    "pycharm": {
     "name": "#%%\n"
    }
   }
  },
  {
   "cell_type": "code",
   "execution_count": 23,
   "outputs": [
    {
     "name": "stdout",
     "output_type": "stream",
     "text": [
      "                                          business         license  \\\n",
      "0                                COASTA HOMA, LLC   TAAA-NCOF-UF3E   \n",
      "1                              UR SMOKIN DELIVERY   TAAA-VKZB-BSUZ   \n",
      "2                        D-LUV TRANSPORT LTD. CO.   TAAA-6NR6-KI0Y   \n",
      "3                                    CANNALAB LLC   TAAA-CIRX-CDDD   \n",
      "4                   SYNCROSCAPE BUSINESS SERVICES   TAAA-XXBF-D15X   \n",
      "..                                             ...             ...   \n",
      "80                              PAYCASH GROUP LLC   TAAA-EKJA-WRLG   \n",
      "81                          T3 TRANSPORTATION LLC   TAAA-IVCU-EKMB   \n",
      "82                    TACTICAL TRANSPORTATION LLC   TAAA-NK1S-4NSJ   \n",
      "83  WATCHMEN SECURITY AND PROTECTIVE SERVICES LLC   TAAA-4ORH-ADAN   \n",
      "84                  CANNALYTICS LABORATORIES, LLC   TAAA-NMO8-J0VU   \n",
      "\n",
      "                                  email       phone         city    zip  \\\n",
      "0                    CALAEB25@GMAIL.COM  4057404752          ADA  74820   \n",
      "1                  JAJENSEN06@GMAIL.COM  4054416540        ALLEN  74825   \n",
      "2                     LUVS420@YAHOO.COM  5804718768        ALTUS  73521   \n",
      "3                    PRFULMER@GMAIL.COM  4052505750      ARDMORE  73401   \n",
      "4              SYNCROSCAPE788@GMAIL.COM  5802775743      ARDMORE  73401   \n",
      "..                                  ...         ...          ...    ...   \n",
      "80                     GARY@MEGAWAT.COM  9186293130        TULSA  74119   \n",
      "81              MMARTUCCI@TULSAPAIN.ORG  9186450458        TULSA  74146   \n",
      "82  TREVOR@TACTICALTRANSPORTATIONOK.COM  9187296194        TULSA  74112   \n",
      "83                 GBATES4909@YAHOO.COM  9184889538        TULSA  74128   \n",
      "84             MICAH@PROCANNALYTICS.COM  4053451050  WEATHERFORD  73096   \n",
      "\n",
      "      county license_type                                      trade_name  \n",
      "0   PONTOTOC  transporter                                                  \n",
      "1   PONTOTOC  transporter                                                  \n",
      "2    JACKSON  transporter                       D-LUVS TRANSPORT LTD. CO.  \n",
      "3   OKLAHOMA  transporter                                        CANNALAB  \n",
      "4     CARTER  transporter                   SYNCROSCAPE BUSINESS SERVICES  \n",
      "..       ...          ...                                             ...  \n",
      "80     TULSA  transporter                               PAYCASH GROUP LLC  \n",
      "81     TULSA  transporter                                           STSOT  \n",
      "82     TULSA  transporter                     TACTICAL TRANSPORTATION LLC  \n",
      "83     TULSA  transporter   WATCHMEN SECURITY AND PROTECTIVE SERVICES LLC  \n",
      "84    CUSTER  transporter                                                  \n",
      "\n",
      "[82 rows x 9 columns]\n"
     ]
    }
   ],
   "source": [
    "# Manipulating transporter20210507.csv\n",
    "transporter = pd.read_csv(\"transporter20210507.csv\").drop(['Unnamed: 0', 'Unnamed: 0.1'],axis=1)\n",
    "transporter['License_type'] = \"transporter\"\n",
    "transporter = transporter[transporter['0'].notnull()]\n",
    "transporter.drop('7', inplace=True, axis=1)\n",
    "transporter.drop('8', inplace=True, axis=1)\n",
    "transporter.columns=['business', 'license', 'email', 'phone', 'city', 'zip', 'county', 'license_type']\n",
    "transporter = transporter.replace('\\n','', regex=True)\n",
    "transporter['zip'] = transporter['zip'].astype(\"int64\")\n",
    "data=transporter['business'].str.split(r'Trade Name:', expand=True)\n",
    "# print(data)\n",
    "transporter['trade_name'] = data[1]\n",
    "transporter['business'] = data[0]\n",
    "print(transporter)\n",
    "# transporter.to_csv(\"transporter.csv\", index=False)"
   ],
   "metadata": {
    "collapsed": false,
    "pycharm": {
     "name": "#%%\n"
    }
   }
  },
  {
   "cell_type": "code",
   "execution_count": 24,
   "outputs": [
    {
     "name": "stdout",
     "output_type": "stream",
     "text": [
      "                              business         license  \\\n",
      "0                  AAA PROCESSING LLC   PAAA-7MU6-ZGRF   \n",
      "1           ALL NATURAL SOLUTIONS LLC   PAAA-SBDR-JD2T   \n",
      "2                   BDR SOLUTIONS LLC   PAAA-4Y3H-CPRI   \n",
      "3                     BIG POPPA'S LLC   PAAA-NYLS-DU8H   \n",
      "4                   BOGGY CREEK FARMS   PAAA-VWNV-RB5K   \n",
      "...                                ...             ...   \n",
      "1400           SIRIUS PROCESSORS, LLC   PAAA-MEY9-JILW   \n",
      "1401                    CANNAVIBE INC   PAAA-NYNN-O2VD   \n",
      "1402  CENTRAL SCIENTIFIC PROCESS, LLC   PAAA-4YE0-VGFV   \n",
      "1403             HMP ENTERPRISES, LLC   PAAA-4JZ4-X1KB   \n",
      "1404              KIND VINE FARMS LLC   PAAA-53J5-EMPW   \n",
      "\n",
      "                               email       phone       city    zip    county  \\\n",
      "0           CORTEZCOLEMAN@ICLOUD.COM  5803996215        ADA  74820  PONTOTOC   \n",
      "1              ALLNATURALADA@ATT.NET  5802724041        ADA  74820  PONTOTOC   \n",
      "2     BELINDASLAKEPARADISE@GMAIL.COM  5803202301        ADA  74820  PONTOTOC   \n",
      "3             BIGPOPPASLLC@YAHOO.COM  5804212323        ADA  74820  PONTOTOC   \n",
      "4               RUSSLOLLAR@GMAIL.COM  5803990636        ADA  74820  PONTOTOC   \n",
      "...                              ...         ...        ...    ...       ...   \n",
      "1400          INFO@SIRIUSGROWERS.COM  4059966983  WYNNEWOOD  73098    GARVIN   \n",
      "1401        MATT@STACYLEGALGROUP.COM  4058167228      YUKON  73099  CANADIAN   \n",
      "1402   JOSH.THOMAS@THOMASGROWERS.COM  4056152495      YUKON  73099  OKLAHOMA   \n",
      "1403         HMPPROCESSING@GMAIL.COM  4057062920      YUKON  73099  CANADIAN   \n",
      "1404        MATT@STACYLEGALGROUP.COM  4058167532      YUKON  73010     GRADY   \n",
      "\n",
      "     license_type           trade_name  \n",
      "0       processor   AAA PROCESSING LLC  \n",
      "1       processor          ALL NATURAL  \n",
      "2       processor        BDR SOLUTIONS  \n",
      "3       processor      BIG POPPA'S LLC  \n",
      "4       processor    BOGGY CREEK FARMS  \n",
      "...           ...                  ...  \n",
      "1400    processor                       \n",
      "1401    processor                       \n",
      "1402    processor                       \n",
      "1403    processor           HAPPY HOUR  \n",
      "1404    processor                       \n",
      "\n",
      "[1402 rows x 9 columns]\n"
     ]
    }
   ],
   "source": [
    "# Manipulating processor20210507.csv\n",
    "processor = pd.read_csv(\"processor20210507.csv\").drop(['Unnamed: 0', 'Unnamed: 0.1'],axis=1)\n",
    "processor['License_type'] = \"processor\"\n",
    "processor = processor[processor['0'].notnull()]\n",
    "processor.drop('7', inplace=True, axis=1)\n",
    "processor.drop('8', inplace=True, axis=1)\n",
    "processor.columns=['business', 'license', 'email', 'phone', 'city', 'zip', 'county', 'license_type']\n",
    "processor = processor.replace('\\n','', regex=True)\n",
    "processor['zip'] = processor['zip'].astype(\"int64\")\n",
    "data=processor['business'].str.split(r'Trade Name:', expand=True)\n",
    "# print(data)\n",
    "processor['trade_name'] = data[1]\n",
    "processor['business'] = data[0]\n",
    "print(processor)\n",
    "# processor.to_csv(\"processor.csv\", index=False)"
   ],
   "metadata": {
    "collapsed": false,
    "pycharm": {
     "name": "#%%\n"
    }
   }
  },
  {
   "cell_type": "code",
   "execution_count": 25,
   "outputs": [
    {
     "name": "stdout",
     "output_type": "stream",
     "text": [
      "                                  business         license  \\\n",
      "0                       ABRAXAS LABS, LLC   LAAA-MOXZ-FQ1G   \n",
      "1               BASELINE LABORATORIES LLC   LAAA-4KTI-YEVJ   \n",
      "2                     BUD'S TESTING L.L.C   LAAA-VYI5-JUJK   \n",
      "3                   QUALITY CANNABIS, LLC   LAAA-NY91-LPUX   \n",
      "4         EXPRESS TOXICOLOGY SERVICES LLC   LAAA-E1LK-2BLG   \n",
      "5                  HAVARD INDUSTRIES, LLC   LAAA-8SPC-5FH4   \n",
      "6             TJB RESTRICTED HOLDINGS LLC   LAAA-EKZ6-UNEB   \n",
      "7                      405 ANALYTICAL LLC   LAAA-NYWH-5XOE   \n",
      "8                              RHINO LABS   LAAA-NYJX-RQRM   \n",
      "9        ANALYTICAL EDGE DISCOVERIES, LLC   LAAA-HHN8-MXQQ   \n",
      "10            SCISSORTAIL LABORATORY, LLC   LAAA-NKSL-JY3L   \n",
      "11     INTEGRITY TESTING LABORATORIES LLC   LAAA-SSUC-08SY   \n",
      "12                   CANNABIS TESTING LLC   LAAA-4YOC-PGXU   \n",
      "13                         HIGHGRADE LABS   LAAA-NKSE-J8CM   \n",
      "14                           PURELABS-OKC   LAAA-NJR1-YZAD   \n",
      "15                        DELTA9 LABS LLC   LAAA-4KCW-FBED   \n",
      "16                    HIGHER TESTING, LLC   LAAA-VK6A-DPMO   \n",
      "17  ELITE ELEMENT TESTING LABORATORY, LLC   LAAA-NJT2-DMOG   \n",
      "18            GREEN COUNTRY TESTING, INC.   LAAA-AYUG-T2AU   \n",
      "19         OK COMPLIANCE TESTING LAB, LLC   LAAA-N1FX-P5VY   \n",
      "20                         T3 TESTING LLC   LAAA-A0B5-KFMY   \n",
      "21          CANNALYTICS LABORATORIES, LLC   LAAA-4YTM-SXWD   \n",
      "\n",
      "                                    email       phone           city    zip  \\\n",
      "0                DRVADIM@ABRAXAS-LABS.COM  9189245164   BROKEN ARROW  74012   \n",
      "1               BMOSLEY@BASELINE-LABS.COM  4053902522        CHOCTAW  73020   \n",
      "2                 BRANDON@BUDSTESTING.COM  5807862173         DUNCAN  73533   \n",
      "3                 WEBBCRYSTAL77@YAHOO.COM  4054715367         EDMOND  73003   \n",
      "4      INFO@EXPRESSTOXICOLOGYSERVICES.COM  4052165788         EDMOND  73013   \n",
      "5                  JHAVARD@PROTONMAIL.COM  4058880961         EDMOND  73034   \n",
      "6      TONY.BRIXEY@GENESISTESTINGLABS.COM  9187913460          GROVE  74344   \n",
      "7            laboratory@405analytical.com  4055485734   MIDWEST CITY  73110   \n",
      "8                    RYAN@RHINOLABSOK.COM  4054657676         NORMAN  73069   \n",
      "9                   ROBERT@KAYCHALABS.COM  4053703776  OKLAHOMA CITY  73105   \n",
      "10               INFO@SCISSORTAILLABS.COM  4057880247  OKLAHOMA CITY  73107   \n",
      "11                  CHARLESBOGIEMD@ME.COM  4055943773  OKLAHOMA CITY  73112   \n",
      "12             RBRITTEN@CANNABESTLABS.COM  4054882400  OKLAHOMA CITY  73118   \n",
      "13                  LAB@HIGHGRADELABS.COM  4057248444  OKLAHOMA CITY  73129   \n",
      "14                 HPURDY@PURELABSOKC.COM  4058856411  OKLAHOMA CITY  73139   \n",
      "15                 INFO@DELTA9LABSLLC.COM  5803049392     PONCA CITY  74601   \n",
      "16                 INFO@HIGHERTESTING.COM  9185718757         ROLAND  74954   \n",
      "17  KANDICE.FAULKENBERRY@OK.STEEPHILL.COM  9183157892       SALLISAW  74955   \n",
      "18         BRIAND@GREENCOUNTRYTESTING.COM  9188289977          TULSA  74145   \n",
      "19                    EPHILLIPS@OKCTL.COM  9188727015          TULSA  74146   \n",
      "20              SCAMPBELL@STSOKLAHOMA.COM  9186450458          TULSA  74146   \n",
      "21                 WOK@PROCANNALYTICS.COM  5803028196    WEATHERFORD  73096   \n",
      "\n",
      "       county license_type                                  trade_name  \n",
      "0       TULSA   laboratory                                ABRAXAS LABS  \n",
      "1    OKLAHOMA   laboratory                   BASELINE LABORATORIES LLC  \n",
      "2    STEPHENS   laboratory   BUD'S TESTING L.L.C ANALYTICAL LABORATORY  \n",
      "3    OKLAHOMA   laboratory                                              \n",
      "4    OKLAHOMA   laboratory                                              \n",
      "5    OKLAHOMA   laboratory                                              \n",
      "6    DELAWARE   laboratory                GENESIS TESTING LABORATORIES  \n",
      "7    OKLAHOMA   laboratory                                              \n",
      "8   CLEVELAND   laboratory                                              \n",
      "9    OKLAHOMA   laboratory                                 KAYCHA LABS  \n",
      "10   OKLAHOMA   laboratory                                              \n",
      "11   OKLAHOMA   laboratory                                              \n",
      "12   OKLAHOMA   laboratory                              CANNABEST LABS  \n",
      "13   OKLAHOMA   laboratory                                              \n",
      "14   OKLAHOMA   laboratory                                    PURELABS  \n",
      "15        KAY   laboratory                                              \n",
      "16   SEQUOYAH   laboratory                         HIGHER TESTING, LLC  \n",
      "17   SEQUOYAH   laboratory                         STEEP HILL OKLAHOMA  \n",
      "18      TULSA   laboratory                                              \n",
      "19      TULSA   laboratory                                       OKCTL  \n",
      "20      TULSA   laboratory        SPECIALTY TESTING SOLUTIONS OKLAHOMA  \n",
      "21     CUSTER   laboratory               CANNALYTICS LABORATORIES, LLC  \n"
     ]
    }
   ],
   "source": [
    "# Manipulating laboratory20210507.csv\n",
    "laboratory = pd.read_csv(\"laboratory20210507.csv\").drop(['Unnamed: 0', 'Unnamed: 0.1'],axis=1)\n",
    "laboratory['License_type'] = \"laboratory\"\n",
    "laboratory = laboratory[laboratory['0'].notnull()]\n",
    "laboratory.columns=['business', 'license', 'email', 'phone', 'city', 'zip', 'county', 'license_type']\n",
    "laboratory = laboratory.replace('\\n','', regex=True)\n",
    "laboratory['zip'] = laboratory['zip'].astype(\"int64\")\n",
    "data=laboratory['business'].str.split(r'Trade Name:', expand=True)\n",
    "# print(data)\n",
    "laboratory['trade_name'] = data[1]\n",
    "laboratory['business'] = data[0]\n",
    "print(laboratory)\n",
    "# laboratory.to_csv(\"laboratory.csv\", index=False)"
   ],
   "metadata": {
    "collapsed": false,
    "pycharm": {
     "name": "#%%\n"
    }
   }
  },
  {
   "cell_type": "code",
   "execution_count": 26,
   "outputs": [
    {
     "name": "stdout",
     "output_type": "stream",
     "text": [
      "                                  business         license  \\\n",
      "0      CORNERSTONE ENVIRONMENTAL SERVICES   WAAA-2XVW-XVWM   \n",
      "1              STEALTH BUSINESS SOLUTIONS   WAAA-41VQ-NN3L   \n",
      "2                       MAVEN ENERGY, LLC   WAAA-B91V-AX5C   \n",
      "3   OKLAHOMA GREEN TO GOLD RECYCLING LLC.   WAAA-WIPF-M8OX   \n",
      "7     SOONER MEDICAL WASTE MANAGEMENT LLC   WAAA-4YCA-4VEU   \n",
      "..                                     ...             ...   \n",
      "17  ELITE ELEMENT TESTING LABORATORY, LLC   LAAA-NJT2-DMOG   \n",
      "18            GREEN COUNTRY TESTING, INC.   LAAA-AYUG-T2AU   \n",
      "19         OK COMPLIANCE TESTING LAB, LLC   LAAA-N1FX-P5VY   \n",
      "20                         T3 TESTING LLC   LAAA-A0B5-KFMY   \n",
      "21          CANNALYTICS LABORATORIES, LLC   LAAA-4YTM-SXWD   \n",
      "\n",
      "                                    email       phone         city    zip  \\\n",
      "0                TYLER.SMITH@GOTILLEY.COM  5807993774       DUNCAN  73533   \n",
      "1      STEALTHBUSINESSSOLUTIONS@GMAIL.COM  4056405633       EDMOND  73003   \n",
      "2         EGNITEWASTEMANAGEMENT@GMAIL.COM  4053148757      GUTHRIE  73044   \n",
      "3                  DAAW8272@SBCGLOBAL.NET  4796510950       MEEKER  74855   \n",
      "7           ELAINE@SOONERMEDICALWASTE.COM  4799261901      MULDROW  74948   \n",
      "..                                    ...         ...          ...    ...   \n",
      "17  KANDICE.FAULKENBERRY@OK.STEEPHILL.COM  9183157892     SALLISAW  74955   \n",
      "18         BRIAND@GREENCOUNTRYTESTING.COM  9188289977        TULSA  74145   \n",
      "19                    EPHILLIPS@OKCTL.COM  9188727015        TULSA  74146   \n",
      "20              SCAMPBELL@STSOKLAHOMA.COM  9186450458        TULSA  74146   \n",
      "21                 WOK@PROCANNALYTICS.COM  5803028196  WEATHERFORD  73096   \n",
      "\n",
      "          county    license_type                              trade_name  \n",
      "0       STEPHENS  waste_disposal      CORNERSTONE ENVIRONMENTAL SERVICES  \n",
      "1       OKLAHOMA  waste_disposal                         STEALTH RECYCLE  \n",
      "2          LOGAN  waste_disposal                 EGNITE WASTE MANAGEMENT  \n",
      "3   POTTAWATOMIE  waste_disposal   OKLAHOMA GREEN TO GOLD RECYCLING LLC.  \n",
      "7       SEQUOYAH  waste_disposal    SOONER MEDICAL WASTE MANAGEMENT, LLC  \n",
      "..           ...             ...                                     ...  \n",
      "17      SEQUOYAH      laboratory                     STEEP HILL OKLAHOMA  \n",
      "18         TULSA      laboratory                                          \n",
      "19         TULSA      laboratory                                   OKCTL  \n",
      "20         TULSA      laboratory    SPECIALTY TESTING SOLUTIONS OKLAHOMA  \n",
      "21        CUSTER      laboratory           CANNALYTICS LABORATORIES, LLC  \n",
      "\n",
      "[11288 rows x 9 columns]\n"
     ]
    }
   ],
   "source": [
    "frames = [waste_disposal, processor, transporter, growers, dispensaries, laboratory]\n",
    "result = pd.concat(frames)\n",
    "print(result)\n",
    "# result['phone'] = result['phone'].astype(\"int64\")\n",
    "# result.to_csv(\"combined_data.csv\", index=False)"
   ],
   "metadata": {
    "collapsed": false,
    "pycharm": {
     "name": "#%%\n"
    }
   }
  },
  {
   "cell_type": "code",
   "execution_count": 31,
   "outputs": [
    {
     "name": "stdout",
     "output_type": "stream",
     "text": [
      "['CORNERSTONE ENVIRONMENTAL SERVICES ' 'STEALTH BUSINESS SOLUTIONS '\n",
      " 'MAVEN ENERGY, LLC ' ... 'GREEN COUNTRY TESTING, INC. '\n",
      " 'OK COMPLIANCE TESTING LAB, LLC ' 'T3 TESTING LLC ']\n"
     ]
    }
   ],
   "source": [
    "# Getting the unique values from the all the columns\n",
    "print(result['business'].unique())\n",
    "# print(result)"
   ],
   "metadata": {
    "collapsed": false,
    "pycharm": {
     "name": "#%%\n"
    }
   }
  },
  {
   "cell_type": "code",
   "execution_count": 30,
   "outputs": [
    {
     "data": {
      "text/plain": "business        10092\nlicense         11162\nemail            8628\nphone            8372\ncity              657\nzip               705\ncounty            104\nlicense_type        6\ntrade_name       6764\ndtype: int64"
     },
     "execution_count": 30,
     "metadata": {},
     "output_type": "execute_result"
    }
   ],
   "source": [
    "# Summary of the dataset\n",
    "result.nunique()"
   ],
   "metadata": {
    "collapsed": false,
    "pycharm": {
     "name": "#%%\n"
    }
   }
  },
  {
   "cell_type": "code",
   "execution_count": null,
   "outputs": [],
   "source": [
    "result"
   ],
   "metadata": {
    "collapsed": false,
    "pycharm": {
     "name": "#%%\n"
    }
   }
  }
 ],
 "metadata": {
  "kernelspec": {
   "display_name": "Python 3",
   "language": "python",
   "name": "python3"
  },
  "language_info": {
   "codemirror_mode": {
    "name": "ipython",
    "version": 2
   },
   "file_extension": ".py",
   "mimetype": "text/x-python",
   "name": "python",
   "nbconvert_exporter": "python",
   "pygments_lexer": "ipython2",
   "version": "2.7.6"
  }
 },
 "nbformat": 4,
 "nbformat_minor": 0
}